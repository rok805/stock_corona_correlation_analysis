{
 "cells": [
  {
   "cell_type": "markdown",
   "metadata": {},
   "source": [
    "# 회사별 주식 데이터 수집"
   ]
  },
  {
   "cell_type": "code",
   "execution_count": 22,
   "metadata": {},
   "outputs": [],
   "source": [
    "class stock_crawling():\n",
    "\n",
    "\n",
    "    \n",
    "    def __init__(self):\n",
    "        self.table_number = \"https://finance.naver.com/item/sise_day.nhn?code=\" # html안잡힘.\n",
    "        print('init')\n",
    "\n",
    "        \n",
    "        \n",
    "    def start(self): # 브라우저 실행.\n",
    "        driver = webdriver.Chrome(executable_path='chromedriver.exe') # 브라우저 열기\n",
    "        # 현재 디렉토리에 크롬드라이버 exe 파일 있음.\n",
    "        \n",
    "        driver.implicitly_wait(3) # 암묵적으로 웹 자원을 (최대) 3초 기다리기\n",
    "        \n",
    "        \n",
    "    def company(self, url, p_num):   # 회사별 주식 페이지 url 수집.\n",
    "        \n",
    "        driver = webdriver.Chrome(executable_path='chromedriver.exe') # 브라우저 열기\n",
    "\n",
    "        self.company_url=[]\n",
    "\n",
    "        for i in tqdm(range(1,p_num+1)):\n",
    "            \n",
    "            driver.get(str(url)+str(i)) # 시가총액 첫페이지\n",
    "            \n",
    "            time.sleep(1) # 웹페이지 열릴 시간을 줌.\n",
    "\n",
    "            html=driver.page_source # html 소스 \n",
    "            soup=BeautifulSoup(html, 'html.parser') # html 소스 정리\n",
    "\n",
    "            notices = soup.select('tbody')[1].find_all('a') # 페이지의 모든 회사 url 획득\n",
    "\n",
    "            for j in notices:\n",
    "                if 'main' in j['href']:\n",
    "                    self.company_url.append('https://finance.naver.com/'+str(j['href']))\n",
    "\n",
    "\n",
    "        return self.company_url\n",
    "\n",
    "    \n",
    "    \n",
    "    \n",
    "    def stock(self,t_num,c_url): # t_num: 시세 테이블 페이지 수\n",
    "\n",
    "        import pandas as pd\n",
    "        \n",
    "        self.t_num=t_num\n",
    "        self.company_url=c_url\n",
    "        print(self.company_url)\n",
    "        \n",
    "        #시세 table number\n",
    "        self.company_price=pd.DataFrame()\n",
    "\n",
    "        driver = webdriver.Chrome(executable_path='chromedriver.exe') # 브라우저 열기\n",
    "\n",
    "        \n",
    "        for c_url in tqdm(self.company_url):\n",
    "            data=pd.DataFrame() # 회사마다 시세가 잠시 담기는 곳.\n",
    "\n",
    "\n",
    "\n",
    "\n",
    "            driver.get(c_url)  # 회사 페이지 진입\n",
    "            time.sleep(0.1)\n",
    "            html=driver.page_source\n",
    "            soup=BeautifulSoup(html,'html.parser')\n",
    "\n",
    "\n",
    "            # 회사 이름\n",
    "            c_name = soup.select('#middle > dl.blind > dd ')[1].text.split()[1:] # 이름 획득\n",
    "            c_name = \" \".join(c_name)\n",
    "            print(c_name)\n",
    "\n",
    "            # 업종\n",
    "            try:\n",
    "                d_name = soup.select('#content > div > h4 > em > a')[0].text # 이름 획득\n",
    "                print(d_name)\n",
    "            except:\n",
    "                print('업종없음')\n",
    "                d_name = '없종없음'\n",
    "\n",
    "\n",
    "            price_url = soup.select('#content > ul > li > a.tab2')[0]['href'] \n",
    "            price_url = \"https://finance.naver.com/\"+price_url\n",
    "            driver.get(price_url) # 시세 페이지 진입\n",
    "            print(price_url)\n",
    "\n",
    "\n",
    "            for num in range(1,self.t_num+1):\n",
    "                table_url = self.table_number+c_url[-6:]+\"&page=\"+str(num) # 고정 url, 지정 변수 입력(self.table_number)\n",
    "\n",
    "                driver.get(table_url)\n",
    "                time.sleep(0.1)\n",
    "                data = pd.concat([data,pd.read_html(table_url, encoding='cp949')[0]]) # 시세 테이블 획득.\n",
    "\n",
    "            data['회사이름'] = [c_name for _ in range(len(data))]\n",
    "            data['업종'] = [d_name for _ in range(len(data))]\n",
    "            self.company_price = pd.concat([self.company_price,data], ignore_index=True)\n",
    "\n",
    "        return self.company_price\n",
    "\n",
    "    \n",
    "    \n",
    "\n",
    "    def run(self,pages=12): # 위의 함수들을 실행시킬 함수.\n",
    "        \n",
    "        \n",
    "        self.pages = pages\n",
    "\n",
    "        play=stock_crawling() #1. 초기화\n",
    "        \n",
    "        play.start() #2. 브라우저 실행\n",
    "\n",
    "        \n",
    "        \n",
    "        self.url='https://finance.naver.com/sise/sise_market_sum.nhn?&page=' #고정 url, 지정변수 입력\n",
    "        p_num=32\n",
    "        self.c_url = play.company(self.url,p_num) #3. 회사별 주식 페이지 url 수집\n",
    "\n",
    "        stock_price = play.stock(self.pages, self.c_url) #4. 회사별 주식 수집, pages: 시세 테이블 페이지 수\n",
    "\n",
    "        return stock_price"
   ]
  },
  {
   "cell_type": "code",
   "execution_count": 24,
   "metadata": {},
   "outputs": [],
   "source": [
    "from selenium import webdriver\n",
    "from selenium.webdriver.common.keys import Keys\n",
    "from bs4 import BeautifulSoup\n",
    "import requests\n",
    "import time\n",
    "from datetime import datetime\n",
    "import re\n",
    "from tqdm import tqdm"
   ]
  },
  {
   "cell_type": "code",
   "execution_count": 23,
   "metadata": {
    "collapsed": true
   },
   "outputs": [
    {
     "name": "stdout",
     "output_type": "stream",
     "text": [
      "init\n",
      "init\n"
     ]
    },
    {
     "name": "stderr",
     "output_type": "stream",
     "text": [
      "100%|██████████████████████████████████████████████████████████████████████████████████| 32/32 [00:46<00:00,  1.44s/it]\n"
     ]
    },
    {
     "name": "stdout",
     "output_type": "stream",
     "text": [
      "['https://finance.naver.com//item/main.nhn?code=005930', 'https://finance.naver.com//item/main.nhn?code=000660', 'https://finance.naver.com//item/main.nhn?code=207940', 'https://finance.naver.com//item/main.nhn?code=035420', 'https://finance.naver.com//item/main.nhn?code=068270', 'https://finance.naver.com//item/main.nhn?code=005935', 'https://finance.naver.com//item/main.nhn?code=051910', 'https://finance.naver.com//item/main.nhn?code=006400', 'https://finance.naver.com//item/main.nhn?code=035720', 'https://finance.naver.com//item/main.nhn?code=034730', 'https://finance.naver.com//item/main.nhn?code=028260', 'https://finance.naver.com//item/main.nhn?code=005380', 'https://finance.naver.com//item/main.nhn?code=051900', 'https://finance.naver.com//item/main.nhn?code=036570', 'https://finance.naver.com//item/main.nhn?code=012330', 'https://finance.naver.com//item/main.nhn?code=017670', 'https://finance.naver.com//item/main.nhn?code=005490', 'https://finance.naver.com//item/main.nhn?code=055550', 'https://finance.naver.com//item/main.nhn?code=105560', 'https://finance.naver.com//item/main.nhn?code=018260', 'https://finance.naver.com//item/main.nhn?code=000270', 'https://finance.naver.com//item/main.nhn?code=015760', 'https://finance.naver.com//item/main.nhn?code=003550', 'https://finance.naver.com//item/main.nhn?code=033780', 'https://finance.naver.com//item/main.nhn?code=066570', 'https://finance.naver.com//item/main.nhn?code=096770', 'https://finance.naver.com//item/main.nhn?code=090430', 'https://finance.naver.com//item/main.nhn?code=009150', 'https://finance.naver.com//item/main.nhn?code=032830', 'https://finance.naver.com//item/main.nhn?code=000810', 'https://finance.naver.com//item/main.nhn?code=086790', 'https://finance.naver.com//item/main.nhn?code=251270', 'https://finance.naver.com//item/main.nhn?code=010950', 'https://finance.naver.com//item/main.nhn?code=010130', 'https://finance.naver.com//item/main.nhn?code=316140', 'https://finance.naver.com//item/main.nhn?code=009540', 'https://finance.naver.com//item/main.nhn?code=030200', 'https://finance.naver.com//item/main.nhn?code=011170', 'https://finance.naver.com//item/main.nhn?code=024110', 'https://finance.naver.com//item/main.nhn?code=032640', 'https://finance.naver.com//item/main.nhn?code=021240', 'https://finance.naver.com//item/main.nhn?code=180640', 'https://finance.naver.com//item/main.nhn?code=271560', 'https://finance.naver.com//item/main.nhn?code=018880', 'https://finance.naver.com//item/main.nhn?code=035250', 'https://finance.naver.com//item/main.nhn?code=097950', 'https://finance.naver.com//item/main.nhn?code=069500', 'https://finance.naver.com//item/main.nhn?code=006800', 'https://finance.naver.com//item/main.nhn?code=002790', 'https://finance.naver.com//item/main.nhn?code=088980', 'https://finance.naver.com//item/main.nhn?code=034220', 'https://finance.naver.com//item/main.nhn?code=267250', 'https://finance.naver.com//item/main.nhn?code=086280', 'https://finance.naver.com//item/main.nhn?code=010140', 'https://finance.naver.com//item/main.nhn?code=011070', 'https://finance.naver.com//item/main.nhn?code=003670', 'https://finance.naver.com//item/main.nhn?code=000120', 'https://finance.naver.com//item/main.nhn?code=000720', 'https://finance.naver.com//item/main.nhn?code=004990', 'https://finance.naver.com//item/main.nhn?code=000100', 'https://finance.naver.com//item/main.nhn?code=078930', 'https://finance.naver.com//item/main.nhn?code=005830', 'https://finance.naver.com//item/main.nhn?code=012510', 'https://finance.naver.com//item/main.nhn?code=012750', 'https://finance.naver.com//item/main.nhn?code=029780', 'https://finance.naver.com//item/main.nhn?code=128940', 'https://finance.naver.com//item/main.nhn?code=139480', 'https://finance.naver.com//item/main.nhn?code=007070', 'https://finance.naver.com//item/main.nhn?code=000080', 'https://finance.naver.com//item/main.nhn?code=008770', 'https://finance.naver.com//item/main.nhn?code=161390', 'https://finance.naver.com//item/main.nhn?code=000210', 'https://finance.naver.com//item/main.nhn?code=009830', 'https://finance.naver.com//item/main.nhn?code=004020', 'https://finance.naver.com//item/main.nhn?code=071050', 'https://finance.naver.com//item/main.nhn?code=005940', 'https://finance.naver.com//item/main.nhn?code=102110', 'https://finance.naver.com//item/main.nhn?code=003410', 'https://finance.naver.com//item/main.nhn?code=252670', 'https://finance.naver.com//item/main.nhn?code=042660', 'https://finance.naver.com//item/main.nhn?code=241560', 'https://finance.naver.com//item/main.nhn?code=001040', 'https://finance.naver.com//item/main.nhn?code=016360', 'https://finance.naver.com//item/main.nhn?code=122630', 'https://finance.naver.com//item/main.nhn?code=047810', 'https://finance.naver.com//item/main.nhn?code=282330', 'https://finance.naver.com//item/main.nhn?code=036460', 'https://finance.naver.com//item/main.nhn?code=003000', 'https://finance.naver.com//item/main.nhn?code=023530', 'https://finance.naver.com//item/main.nhn?code=028050', 'https://finance.naver.com//item/main.nhn?code=005387', 'https://finance.naver.com//item/main.nhn?code=008930', 'https://finance.naver.com//item/main.nhn?code=081660', 'https://finance.naver.com//item/main.nhn?code=004170', 'https://finance.naver.com//item/main.nhn?code=001450', 'https://finance.naver.com//item/main.nhn?code=011780', 'https://finance.naver.com//item/main.nhn?code=004370', 'https://finance.naver.com//item/main.nhn?code=020150', 'https://finance.naver.com//item/main.nhn?code=157450', 'https://finance.naver.com//item/main.nhn?code=006360', 'https://finance.naver.com//item/main.nhn?code=011790', 'https://finance.naver.com//item/main.nhn?code=153130', 'https://finance.naver.com//item/main.nhn?code=007310', 'https://finance.naver.com//item/main.nhn?code=008560', 'https://finance.naver.com//item/main.nhn?code=009240', 'https://finance.naver.com//item/main.nhn?code=019170', 'https://finance.naver.com//item/main.nhn?code=030000', 'https://finance.naver.com//item/main.nhn?code=039490', 'https://finance.naver.com//item/main.nhn?code=028670', 'https://finance.naver.com//item/main.nhn?code=003490', 'https://finance.naver.com//item/main.nhn?code=006280', 'https://finance.naver.com//item/main.nhn?code=047050', 'https://finance.naver.com//item/main.nhn?code=000880', 'https://finance.naver.com//item/main.nhn?code=051915', 'https://finance.naver.com//item/main.nhn?code=138930', 'https://finance.naver.com//item/main.nhn?code=003090', 'https://finance.naver.com//item/main.nhn?code=009420', 'https://finance.naver.com//item/main.nhn?code=069620', 'https://finance.naver.com//item/main.nhn?code=026960', 'https://finance.naver.com//item/main.nhn?code=181710', 'https://finance.naver.com//item/main.nhn?code=000060', 'https://finance.naver.com//item/main.nhn?code=011200', 'https://finance.naver.com//item/main.nhn?code=017800', 'https://finance.naver.com//item/main.nhn?code=007700', 'https://finance.naver.com//item/main.nhn?code=051905', 'https://finance.naver.com//item/main.nhn?code=047040', 'https://finance.naver.com//item/main.nhn?code=005385', 'https://finance.naver.com//item/main.nhn?code=016380', 'https://finance.naver.com//item/main.nhn?code=069960', 'https://finance.naver.com//item/main.nhn?code=273130', 'https://finance.naver.com//item/main.nhn?code=012450', 'https://finance.naver.com//item/main.nhn?code=004800', 'https://finance.naver.com//item/main.nhn?code=051600', 'https://finance.naver.com//item/main.nhn?code=138040', 'https://finance.naver.com//item/main.nhn?code=192080', 'https://finance.naver.com//item/main.nhn?code=294870', 'https://finance.naver.com//item/main.nhn?code=031430', 'https://finance.naver.com//item/main.nhn?code=010620', 'https://finance.naver.com//item/main.nhn?code=014680', 'https://finance.naver.com//item/main.nhn?code=088350', 'https://finance.naver.com//item/main.nhn?code=111770', 'https://finance.naver.com//item/main.nhn?code=010120', 'https://finance.naver.com//item/main.nhn?code=005690', 'https://finance.naver.com//item/main.nhn?code=001740', 'https://finance.naver.com//item/main.nhn?code=261220', 'https://finance.naver.com//item/main.nhn?code=002380', 'https://finance.naver.com//item/main.nhn?code=000990', 'https://finance.naver.com//item/main.nhn?code=042670', 'https://finance.naver.com//item/main.nhn?code=185750', 'https://finance.naver.com//item/main.nhn?code=034020', 'https://finance.naver.com//item/main.nhn?code=336370', 'https://finance.naver.com//item/main.nhn?code=064350', 'https://finance.naver.com//item/main.nhn?code=336260', 'https://finance.naver.com//item/main.nhn?code=006260', 'https://finance.naver.com//item/main.nhn?code=114800', 'https://finance.naver.com//item/main.nhn?code=285130', 'https://finance.naver.com//item/main.nhn?code=204320', 'https://finance.naver.com//item/main.nhn?code=009410', 'https://finance.naver.com//item/main.nhn?code=005250', 'https://finance.naver.com//item/main.nhn?code=007570', 'https://finance.naver.com//item/main.nhn?code=148020', 'https://finance.naver.com//item/main.nhn?code=102780', 'https://finance.naver.com//item/main.nhn?code=013890', 'https://finance.naver.com//item/main.nhn?code=278530', 'https://finance.naver.com//item/main.nhn?code=272210', 'https://finance.naver.com//item/main.nhn?code=003520', 'https://finance.naver.com//item/main.nhn?code=330590', 'https://finance.naver.com//item/main.nhn?code=161890', 'https://finance.naver.com//item/main.nhn?code=233740', 'https://finance.naver.com//item/main.nhn?code=214320', 'https://finance.naver.com//item/main.nhn?code=000240', 'https://finance.naver.com//item/main.nhn?code=175330', 'https://finance.naver.com//item/main.nhn?code=011210', 'https://finance.naver.com//item/main.nhn?code=004000', 'https://finance.naver.com//item/main.nhn?code=003230', 'https://finance.naver.com//item/main.nhn?code=570019', 'https://finance.naver.com//item/main.nhn?code=001680', 'https://finance.naver.com//item/main.nhn?code=000670', 'https://finance.naver.com//item/main.nhn?code=003690', 'https://finance.naver.com//item/main.nhn?code=073240', 'https://finance.naver.com//item/main.nhn?code=005300', 'https://finance.naver.com//item/main.nhn?code=020560', 'https://finance.naver.com//item/main.nhn?code=010060', 'https://finance.naver.com//item/main.nhn?code=139130', 'https://finance.naver.com//item/main.nhn?code=010780', 'https://finance.naver.com//item/main.nhn?code=032350', 'https://finance.naver.com//item/main.nhn?code=192820', 'https://finance.naver.com//item/main.nhn?code=114090', 'https://finance.naver.com//item/main.nhn?code=120110', 'https://finance.naver.com//item/main.nhn?code=001800', 'https://finance.naver.com//item/main.nhn?code=057050', 'https://finance.naver.com//item/main.nhn?code=214980', 'https://finance.naver.com//item/main.nhn?code=307950', 'https://finance.naver.com//item/main.nhn?code=023590', 'https://finance.naver.com//item/main.nhn?code=003240', 'https://finance.naver.com//item/main.nhn?code=284740', 'https://finance.naver.com//item/main.nhn?code=005440', 'https://finance.naver.com//item/main.nhn?code=293180', 'https://finance.naver.com//item/main.nhn?code=001060', 'https://finance.naver.com//item/main.nhn?code=020000', 'https://finance.naver.com//item/main.nhn?code=170900', 'https://finance.naver.com//item/main.nhn?code=006040', 'https://finance.naver.com//item/main.nhn?code=079550', 'https://finance.naver.com//item/main.nhn?code=003850', 'https://finance.naver.com//item/main.nhn?code=280360', 'https://finance.naver.com//item/main.nhn?code=034310', 'https://finance.naver.com//item/main.nhn?code=049770', 'https://finance.naver.com//item/main.nhn?code=241590', 'https://finance.naver.com//item/main.nhn?code=271980', 'https://finance.naver.com//item/main.nhn?code=006650', 'https://finance.naver.com//item/main.nhn?code=278540', 'https://finance.naver.com//item/main.nhn?code=093370', 'https://finance.naver.com//item/main.nhn?code=071840', 'https://finance.naver.com//item/main.nhn?code=069260', 'https://finance.naver.com//item/main.nhn?code=033660', 'https://finance.naver.com//item/main.nhn?code=005850', 'https://finance.naver.com//item/main.nhn?code=000150', 'https://finance.naver.com//item/main.nhn?code=310970', 'https://finance.naver.com//item/main.nhn?code=018670', 'https://finance.naver.com//item/main.nhn?code=000640', 'https://finance.naver.com//item/main.nhn?code=005180', 'https://finance.naver.com//item/main.nhn?code=090435', 'https://finance.naver.com//item/main.nhn?code=115390', 'https://finance.naver.com//item/main.nhn?code=152100', 'https://finance.naver.com//item/main.nhn?code=008350', 'https://finance.naver.com//item/main.nhn?code=008490', 'https://finance.naver.com//item/main.nhn?code=018250', 'https://finance.naver.com//item/main.nhn?code=112610', 'https://finance.naver.com//item/main.nhn?code=017810', 'https://finance.naver.com//item/main.nhn?code=001630', 'https://finance.naver.com//item/main.nhn?code=006120', 'https://finance.naver.com//item/main.nhn?code=550057', 'https://finance.naver.com//item/main.nhn?code=052690', 'https://finance.naver.com//item/main.nhn?code=001440', 'https://finance.naver.com//item/main.nhn?code=005610', 'https://finance.naver.com//item/main.nhn?code=105190', 'https://finance.naver.com//item/main.nhn?code=103140', 'https://finance.naver.com//item/main.nhn?code=064960', 'https://finance.naver.com//item/main.nhn?code=001230', 'https://finance.naver.com//item/main.nhn?code=009970', 'https://finance.naver.com//item/main.nhn?code=286940', 'https://finance.naver.com//item/main.nhn?code=192400', 'https://finance.naver.com//item/main.nhn?code=014820', 'https://finance.naver.com//item/main.nhn?code=108670', 'https://finance.naver.com//item/main.nhn?code=002350', 'https://finance.naver.com//item/main.nhn?code=229200', 'https://finance.naver.com//item/main.nhn?code=001820', 'https://finance.naver.com//item/main.nhn?code=039130', 'https://finance.naver.com//item/main.nhn?code=012630', 'https://finance.naver.com//item/main.nhn?code=001120', 'https://finance.naver.com//item/main.nhn?code=085620', 'https://finance.naver.com//item/main.nhn?code=003470', 'https://finance.naver.com//item/main.nhn?code=000400', 'https://finance.naver.com//item/main.nhn?code=298020', 'https://finance.naver.com//item/main.nhn?code=192650', 'https://finance.naver.com//item/main.nhn?code=003540', 'https://finance.naver.com//item/main.nhn?code=002320', 'https://finance.naver.com//item/main.nhn?code=210980', 'https://finance.naver.com//item/main.nhn?code=036420', 'https://finance.naver.com//item/main.nhn?code=097230', 'https://finance.naver.com//item/main.nhn?code=251340', 'https://finance.naver.com//item/main.nhn?code=00680K', 'https://finance.naver.com//item/main.nhn?code=079160', 'https://finance.naver.com//item/main.nhn?code=009450', 'https://finance.naver.com//item/main.nhn?code=000070', 'https://finance.naver.com//item/main.nhn?code=003060', 'https://finance.naver.com//item/main.nhn?code=069660', 'https://finance.naver.com//item/main.nhn?code=007460', 'https://finance.naver.com//item/main.nhn?code=000140', 'https://finance.naver.com//item/main.nhn?code=082640', 'https://finance.naver.com//item/main.nhn?code=089590', 'https://finance.naver.com//item/main.nhn?code=081000', 'https://finance.naver.com//item/main.nhn?code=006390', 'https://finance.naver.com//item/main.nhn?code=298050', 'https://finance.naver.com//item/main.nhn?code=530060', 'https://finance.naver.com//item/main.nhn?code=126560', 'https://finance.naver.com//item/main.nhn?code=105630', 'https://finance.naver.com//item/main.nhn?code=034830', 'https://finance.naver.com//item/main.nhn?code=145720', 'https://finance.naver.com//item/main.nhn?code=066575', 'https://finance.naver.com//item/main.nhn?code=004490', 'https://finance.naver.com//item/main.nhn?code=145990', 'https://finance.naver.com//item/main.nhn?code=005880', 'https://finance.naver.com//item/main.nhn?code=226490', 'https://finance.naver.com//item/main.nhn?code=001720', 'https://finance.naver.com//item/main.nhn?code=267270', 'https://finance.naver.com//item/main.nhn?code=000815', 'https://finance.naver.com//item/main.nhn?code=000020', 'https://finance.naver.com//item/main.nhn?code=268280', 'https://finance.naver.com//item/main.nhn?code=001510', 'https://finance.naver.com//item/main.nhn?code=272580', 'https://finance.naver.com//item/main.nhn?code=033180', 'https://finance.naver.com//item/main.nhn?code=006060', 'https://finance.naver.com//item/main.nhn?code=026890', 'https://finance.naver.com//item/main.nhn?code=042700', 'https://finance.naver.com//item/main.nhn?code=015350', 'https://finance.naver.com//item/main.nhn?code=084680', 'https://finance.naver.com//item/main.nhn?code=353200', 'https://finance.naver.com//item/main.nhn?code=005500', 'https://finance.naver.com//item/main.nhn?code=190620', 'https://finance.naver.com//item/main.nhn?code=019680', 'https://finance.naver.com//item/main.nhn?code=027410', 'https://finance.naver.com//item/main.nhn?code=053210', 'https://finance.naver.com//item/main.nhn?code=009290', 'https://finance.naver.com//item/main.nhn?code=071320', 'https://finance.naver.com//item/main.nhn?code=293480', 'https://finance.naver.com//item/main.nhn?code=002390', 'https://finance.naver.com//item/main.nhn?code=094800', 'https://finance.naver.com//item/main.nhn?code=010050', 'https://finance.naver.com//item/main.nhn?code=072710', 'https://finance.naver.com//item/main.nhn?code=281820', 'https://finance.naver.com//item/main.nhn?code=001430', 'https://finance.naver.com//item/main.nhn?code=251350', 'https://finance.naver.com//item/main.nhn?code=249420', 'https://finance.naver.com//item/main.nhn?code=002270', 'https://finance.naver.com//item/main.nhn?code=093050', 'https://finance.naver.com//item/main.nhn?code=294400', 'https://finance.naver.com//item/main.nhn?code=025540', 'https://finance.naver.com//item/main.nhn?code=006405', 'https://finance.naver.com//item/main.nhn?code=096760', 'https://finance.naver.com//item/main.nhn?code=014830', 'https://finance.naver.com//item/main.nhn?code=123890', 'https://finance.naver.com//item/main.nhn?code=003530', 'https://finance.naver.com//item/main.nhn?code=088260', 'https://finance.naver.com//item/main.nhn?code=024720', 'https://finance.naver.com//item/main.nhn?code=008730', 'https://finance.naver.com//item/main.nhn?code=025860', 'https://finance.naver.com//item/main.nhn?code=234080', 'https://finance.naver.com//item/main.nhn?code=033270', 'https://finance.naver.com//item/main.nhn?code=293940', 'https://finance.naver.com//item/main.nhn?code=001880', 'https://finance.naver.com//item/main.nhn?code=017390', 'https://finance.naver.com//item/main.nhn?code=002840', 'https://finance.naver.com//item/main.nhn?code=003220', 'https://finance.naver.com//item/main.nhn?code=306540', 'https://finance.naver.com//item/main.nhn?code=005070', 'https://finance.naver.com//item/main.nhn?code=138250', 'https://finance.naver.com//item/main.nhn?code=300720', 'https://finance.naver.com//item/main.nhn?code=068400', 'https://finance.naver.com//item/main.nhn?code=213500', 'https://finance.naver.com//item/main.nhn?code=002210', 'https://finance.naver.com//item/main.nhn?code=017960', 'https://finance.naver.com//item/main.nhn?code=232080', 'https://finance.naver.com//item/main.nhn?code=016800', 'https://finance.naver.com//item/main.nhn?code=011000', 'https://finance.naver.com//item/main.nhn?code=298000', 'https://finance.naver.com//item/main.nhn?code=000050', 'https://finance.naver.com//item/main.nhn?code=272450', 'https://finance.naver.com//item/main.nhn?code=002960', 'https://finance.naver.com//item/main.nhn?code=001725', 'https://finance.naver.com//item/main.nhn?code=002620', 'https://finance.naver.com//item/main.nhn?code=004700', 'https://finance.naver.com//item/main.nhn?code=060980', 'https://finance.naver.com//item/main.nhn?code=002240', 'https://finance.naver.com//item/main.nhn?code=037560', 'https://finance.naver.com//item/main.nhn?code=004430', 'https://finance.naver.com//item/main.nhn?code=122900', 'https://finance.naver.com//item/main.nhn?code=130680', 'https://finance.naver.com//item/main.nhn?code=003620', 'https://finance.naver.com//item/main.nhn?code=034120', 'https://finance.naver.com//item/main.nhn?code=226320', 'https://finance.naver.com//item/main.nhn?code=084690', 'https://finance.naver.com//item/main.nhn?code=001520', 'https://finance.naver.com//item/main.nhn?code=001200', 'https://finance.naver.com//item/main.nhn?code=000480', 'https://finance.naver.com//item/main.nhn?code=295040', 'https://finance.naver.com//item/main.nhn?code=058650', 'https://finance.naver.com//item/main.nhn?code=002780', 'https://finance.naver.com//item/main.nhn?code=267260', 'https://finance.naver.com//item/main.nhn?code=003300', 'https://finance.naver.com//item/main.nhn?code=016580', 'https://finance.naver.com//item/main.nhn?code=079430', 'https://finance.naver.com//item/main.nhn?code=530038', 'https://finance.naver.com//item/main.nhn?code=139260', 'https://finance.naver.com//item/main.nhn?code=000370', 'https://finance.naver.com//item/main.nhn?code=002310', 'https://finance.naver.com//item/main.nhn?code=029530', 'https://finance.naver.com//item/main.nhn?code=095720', 'https://finance.naver.com//item/main.nhn?code=308170', 'https://finance.naver.com//item/main.nhn?code=004690', 'https://finance.naver.com//item/main.nhn?code=00088K', 'https://finance.naver.com//item/main.nhn?code=344820', 'https://finance.naver.com//item/main.nhn?code=152330', 'https://finance.naver.com//item/main.nhn?code=302450', 'https://finance.naver.com//item/main.nhn?code=322000', 'https://finance.naver.com//item/main.nhn?code=002150', 'https://finance.naver.com//item/main.nhn?code=272550', 'https://finance.naver.com//item/main.nhn?code=012610', 'https://finance.naver.com//item/main.nhn?code=001130', 'https://finance.naver.com//item/main.nhn?code=101060', 'https://finance.naver.com//item/main.nhn?code=002810', 'https://finance.naver.com//item/main.nhn?code=036530', 'https://finance.naver.com//item/main.nhn?code=011280', 'https://finance.naver.com//item/main.nhn?code=500032', 'https://finance.naver.com//item/main.nhn?code=007340', 'https://finance.naver.com//item/main.nhn?code=00104K', 'https://finance.naver.com//item/main.nhn?code=030610', 'https://finance.naver.com//item/main.nhn?code=195870', 'https://finance.naver.com//item/main.nhn?code=001500', 'https://finance.naver.com//item/main.nhn?code=002990', 'https://finance.naver.com//item/main.nhn?code=00279K', 'https://finance.naver.com//item/main.nhn?code=002020', 'https://finance.naver.com//item/main.nhn?code=009680', 'https://finance.naver.com//item/main.nhn?code=148070', 'https://finance.naver.com//item/main.nhn?code=102460', 'https://finance.naver.com//item/main.nhn?code=017940', 'https://finance.naver.com//item/main.nhn?code=029460', 'https://finance.naver.com//item/main.nhn?code=006840', 'https://finance.naver.com//item/main.nhn?code=001360', 'https://finance.naver.com//item/main.nhn?code=133690', 'https://finance.naver.com//item/main.nhn?code=025000', 'https://finance.naver.com//item/main.nhn?code=101530', 'https://finance.naver.com//item/main.nhn?code=298040', 'https://finance.naver.com//item/main.nhn?code=002100', 'https://finance.naver.com//item/main.nhn?code=003545', 'https://finance.naver.com//item/main.nhn?code=016710', 'https://finance.naver.com//item/main.nhn?code=004380', 'https://finance.naver.com//item/main.nhn?code=004710', 'https://finance.naver.com//item/main.nhn?code=036580', 'https://finance.naver.com//item/main.nhn?code=003070', 'https://finance.naver.com//item/main.nhn?code=016590', 'https://finance.naver.com//item/main.nhn?code=005720', 'https://finance.naver.com//item/main.nhn?code=078520', 'https://finance.naver.com//item/main.nhn?code=136490', 'https://finance.naver.com//item/main.nhn?code=007810', 'https://finance.naver.com//item/main.nhn?code=003120', 'https://finance.naver.com//item/main.nhn?code=183190', 'https://finance.naver.com//item/main.nhn?code=037710', 'https://finance.naver.com//item/main.nhn?code=012690', 'https://finance.naver.com//item/main.nhn?code=031440', 'https://finance.naver.com//item/main.nhn?code=005390', 'https://finance.naver.com//item/main.nhn?code=214390', 'https://finance.naver.com//item/main.nhn?code=700001', 'https://finance.naver.com//item/main.nhn?code=007690', 'https://finance.naver.com//item/main.nhn?code=015860', 'https://finance.naver.com//item/main.nhn?code=035510', 'https://finance.naver.com//item/main.nhn?code=004310', 'https://finance.naver.com//item/main.nhn?code=005960', 'https://finance.naver.com//item/main.nhn?code=001940', 'https://finance.naver.com//item/main.nhn?code=03473K', 'https://finance.naver.com//item/main.nhn?code=204480', 'https://finance.naver.com//item/main.nhn?code=094280', 'https://finance.naver.com//item/main.nhn?code=298690', 'https://finance.naver.com//item/main.nhn?code=015360', 'https://finance.naver.com//item/main.nhn?code=003560', 'https://finance.naver.com//item/main.nhn?code=005810', 'https://finance.naver.com//item/main.nhn?code=005420', 'https://finance.naver.com//item/main.nhn?code=229640', 'https://finance.naver.com//item/main.nhn?code=003920', 'https://finance.naver.com//item/main.nhn?code=011930', 'https://finance.naver.com//item/main.nhn?code=900140', 'https://finance.naver.com//item/main.nhn?code=123690', 'https://finance.naver.com//item/main.nhn?code=068290', 'https://finance.naver.com//item/main.nhn?code=004360', 'https://finance.naver.com//item/main.nhn?code=192090', 'https://finance.naver.com//item/main.nhn?code=003580', 'https://finance.naver.com//item/main.nhn?code=079980', 'https://finance.naver.com//item/main.nhn?code=161000', 'https://finance.naver.com//item/main.nhn?code=006490', 'https://finance.naver.com//item/main.nhn?code=332940', 'https://finance.naver.com//item/main.nhn?code=104700', 'https://finance.naver.com//item/main.nhn?code=570046', 'https://finance.naver.com//item/main.nhn?code=000430', 'https://finance.naver.com//item/main.nhn?code=001270', 'https://finance.naver.com//item/main.nhn?code=070960', 'https://finance.naver.com//item/main.nhn?code=009580', 'https://finance.naver.com//item/main.nhn?code=168580', 'https://finance.naver.com//item/main.nhn?code=016450', 'https://finance.naver.com//item/main.nhn?code=000970', 'https://finance.naver.com//item/main.nhn?code=245710', 'https://finance.naver.com//item/main.nhn?code=161510', 'https://finance.naver.com//item/main.nhn?code=044450', 'https://finance.naver.com//item/main.nhn?code=074610', 'https://finance.naver.com//item/main.nhn?code=071055', 'https://finance.naver.com//item/main.nhn?code=02826K', 'https://finance.naver.com//item/main.nhn?code=077500', 'https://finance.naver.com//item/main.nhn?code=097955', 'https://finance.naver.com//item/main.nhn?code=092230', 'https://finance.naver.com//item/main.nhn?code=248170', 'https://finance.naver.com//item/main.nhn?code=550056', 'https://finance.naver.com//item/main.nhn?code=315930', 'https://finance.naver.com//item/main.nhn?code=003570', 'https://finance.naver.com//item/main.nhn?code=063160', 'https://finance.naver.com//item/main.nhn?code=000680', 'https://finance.naver.com//item/main.nhn?code=008060', 'https://finance.naver.com//item/main.nhn?code=091090', 'https://finance.naver.com//item/main.nhn?code=084010', 'https://finance.naver.com//item/main.nhn?code=102260', 'https://finance.naver.com//item/main.nhn?code=132030', 'https://finance.naver.com//item/main.nhn?code=001390', 'https://finance.naver.com//item/main.nhn?code=011760', 'https://finance.naver.com//item/main.nhn?code=002030', 'https://finance.naver.com//item/main.nhn?code=091810', 'https://finance.naver.com//item/main.nhn?code=214420', 'https://finance.naver.com//item/main.nhn?code=168490', 'https://finance.naver.com//item/main.nhn?code=017180', 'https://finance.naver.com//item/main.nhn?code=009155', 'https://finance.naver.com//item/main.nhn?code=143860', 'https://finance.naver.com//item/main.nhn?code=003350', 'https://finance.naver.com//item/main.nhn?code=332500', 'https://finance.naver.com//item/main.nhn?code=009160', 'https://finance.naver.com//item/main.nhn?code=190160', 'https://finance.naver.com//item/main.nhn?code=270810', 'https://finance.naver.com//item/main.nhn?code=267850', 'https://finance.naver.com//item/main.nhn?code=196230', 'https://finance.naver.com//item/main.nhn?code=028100', 'https://finance.naver.com//item/main.nhn?code=007110', 'https://finance.naver.com//item/main.nhn?code=275980', 'https://finance.naver.com//item/main.nhn?code=150460', 'https://finance.naver.com//item/main.nhn?code=001530', 'https://finance.naver.com//item/main.nhn?code=317400', 'https://finance.naver.com//item/main.nhn?code=044820', 'https://finance.naver.com//item/main.nhn?code=282690', 'https://finance.naver.com//item/main.nhn?code=33637K', 'https://finance.naver.com//item/main.nhn?code=001790', 'https://finance.naver.com//item/main.nhn?code=033920', 'https://finance.naver.com//item/main.nhn?code=075580', 'https://finance.naver.com//item/main.nhn?code=002170', 'https://finance.naver.com//item/main.nhn?code=000700', 'https://finance.naver.com//item/main.nhn?code=139280', 'https://finance.naver.com//item/main.nhn?code=005680', 'https://finance.naver.com//item/main.nhn?code=004970', 'https://finance.naver.com//item/main.nhn?code=007540', 'https://finance.naver.com//item/main.nhn?code=015590', 'https://finance.naver.com//item/main.nhn?code=004200', 'https://finance.naver.com//item/main.nhn?code=278240', 'https://finance.naver.com//item/main.nhn?code=010955', 'https://finance.naver.com//item/main.nhn?code=003555', 'https://finance.naver.com//item/main.nhn?code=016610', 'https://finance.naver.com//item/main.nhn?code=009190', 'https://finance.naver.com//item/main.nhn?code=095570', 'https://finance.naver.com//item/main.nhn?code=000540', 'https://finance.naver.com//item/main.nhn?code=004980', 'https://finance.naver.com//item/main.nhn?code=000155', 'https://finance.naver.com//item/main.nhn?code=082740', 'https://finance.naver.com//item/main.nhn?code=332930', 'https://finance.naver.com//item/main.nhn?code=33626K', 'https://finance.naver.com//item/main.nhn?code=002700', 'https://finance.naver.com//item/main.nhn?code=007160', 'https://finance.naver.com//item/main.nhn?code=005945', 'https://finance.naver.com//item/main.nhn?code=005950', 'https://finance.naver.com//item/main.nhn?code=077970', 'https://finance.naver.com//item/main.nhn?code=090350', 'https://finance.naver.com//item/main.nhn?code=015890', 'https://finance.naver.com//item/main.nhn?code=138490', 'https://finance.naver.com//item/main.nhn?code=000215', 'https://finance.naver.com//item/main.nhn?code=004960', 'https://finance.naver.com//item/main.nhn?code=003030', 'https://finance.naver.com//item/main.nhn?code=030210', 'https://finance.naver.com//item/main.nhn?code=101140', 'https://finance.naver.com//item/main.nhn?code=012030', 'https://finance.naver.com//item/main.nhn?code=039570', 'https://finance.naver.com//item/main.nhn?code=001780', 'https://finance.naver.com//item/main.nhn?code=027740', 'https://finance.naver.com//item/main.nhn?code=001250', 'https://finance.naver.com//item/main.nhn?code=005389', 'https://finance.naver.com//item/main.nhn?code=005090', 'https://finance.naver.com//item/main.nhn?code=013580', 'https://finance.naver.com//item/main.nhn?code=306200', 'https://finance.naver.com//item/main.nhn?code=004540', 'https://finance.naver.com//item/main.nhn?code=143850', 'https://finance.naver.com//item/main.nhn?code=007660', 'https://finance.naver.com//item/main.nhn?code=004890', 'https://finance.naver.com//item/main.nhn?code=214330', 'https://finance.naver.com//item/main.nhn?code=003200', 'https://finance.naver.com//item/main.nhn?code=143210', 'https://finance.naver.com//item/main.nhn?code=002795', 'https://finance.naver.com//item/main.nhn?code=520026', 'https://finance.naver.com//item/main.nhn?code=117580', 'https://finance.naver.com//item/main.nhn?code=100250', 'https://finance.naver.com//item/main.nhn?code=035150', 'https://finance.naver.com//item/main.nhn?code=004250', 'https://finance.naver.com//item/main.nhn?code=002720', 'https://finance.naver.com//item/main.nhn?code=128820', 'https://finance.naver.com//item/main.nhn?code=021050', 'https://finance.naver.com//item/main.nhn?code=047400', 'https://finance.naver.com//item/main.nhn?code=325020', 'https://finance.naver.com//item/main.nhn?code=000520', 'https://finance.naver.com//item/main.nhn?code=500015', 'https://finance.naver.com//item/main.nhn?code=001460', 'https://finance.naver.com//item/main.nhn?code=008700', 'https://finance.naver.com//item/main.nhn?code=120030', 'https://finance.naver.com//item/main.nhn?code=009270', 'https://finance.naver.com//item/main.nhn?code=000320', 'https://finance.naver.com//item/main.nhn?code=000390', 'https://finance.naver.com//item/main.nhn?code=003960', 'https://finance.naver.com//item/main.nhn?code=002450', 'https://finance.naver.com//item/main.nhn?code=024090', 'https://finance.naver.com//item/main.nhn?code=011150', 'https://finance.naver.com//item/main.nhn?code=011390', 'https://finance.naver.com//item/main.nhn?code=510011', 'https://finance.naver.com//item/main.nhn?code=093230', 'https://finance.naver.com//item/main.nhn?code=152550', 'https://finance.naver.com//item/main.nhn?code=004150', 'https://finance.naver.com//item/main.nhn?code=500031', 'https://finance.naver.com//item/main.nhn?code=000490', 'https://finance.naver.com//item/main.nhn?code=145210', 'https://finance.naver.com//item/main.nhn?code=002900', 'https://finance.naver.com//item/main.nhn?code=089470', 'https://finance.naver.com//item/main.nhn?code=003460', 'https://finance.naver.com//item/main.nhn?code=102280', 'https://finance.naver.com//item/main.nhn?code=005740', 'https://finance.naver.com//item/main.nhn?code=033240', 'https://finance.naver.com//item/main.nhn?code=014990', 'https://finance.naver.com//item/main.nhn?code=008040', 'https://finance.naver.com//item/main.nhn?code=004060', 'https://finance.naver.com//item/main.nhn?code=001070', 'https://finance.naver.com//item/main.nhn?code=273140', 'https://finance.naver.com//item/main.nhn?code=078000', 'https://finance.naver.com//item/main.nhn?code=011810', 'https://finance.naver.com//item/main.nhn?code=100840', 'https://finance.naver.com//item/main.nhn?code=010820', 'https://finance.naver.com//item/main.nhn?code=008970', 'https://finance.naver.com//item/main.nhn?code=004840', 'https://finance.naver.com//item/main.nhn?code=001570', 'https://finance.naver.com//item/main.nhn?code=002460', 'https://finance.naver.com//item/main.nhn?code=267770', 'https://finance.naver.com//item/main.nhn?code=009460', 'https://finance.naver.com//item/main.nhn?code=009470', 'https://finance.naver.com//item/main.nhn?code=530013', 'https://finance.naver.com//item/main.nhn?code=010960', 'https://finance.naver.com//item/main.nhn?code=001340', 'https://finance.naver.com//item/main.nhn?code=006380', 'https://finance.naver.com//item/main.nhn?code=007210', 'https://finance.naver.com//item/main.nhn?code=210540', 'https://finance.naver.com//item/main.nhn?code=004770', 'https://finance.naver.com//item/main.nhn?code=134380', 'https://finance.naver.com//item/main.nhn?code=252710', 'https://finance.naver.com//item/main.nhn?code=019175', 'https://finance.naver.com//item/main.nhn?code=014790', 'https://finance.naver.com//item/main.nhn?code=144620', 'https://finance.naver.com//item/main.nhn?code=005430', 'https://finance.naver.com//item/main.nhn?code=264900', 'https://finance.naver.com//item/main.nhn?code=003830', 'https://finance.naver.com//item/main.nhn?code=034590', 'https://finance.naver.com//item/main.nhn?code=305540', 'https://finance.naver.com//item/main.nhn?code=033530', 'https://finance.naver.com//item/main.nhn?code=004560', 'https://finance.naver.com//item/main.nhn?code=096775', 'https://finance.naver.com//item/main.nhn?code=014160', 'https://finance.naver.com//item/main.nhn?code=28513K', 'https://finance.naver.com//item/main.nhn?code=009320', 'https://finance.naver.com//item/main.nhn?code=005320', 'https://finance.naver.com//item/main.nhn?code=014530', 'https://finance.naver.com//item/main.nhn?code=020120', 'https://finance.naver.com//item/main.nhn?code=000230', 'https://finance.naver.com//item/main.nhn?code=003160', 'https://finance.naver.com//item/main.nhn?code=001290', 'https://finance.naver.com//item/main.nhn?code=500045', 'https://finance.naver.com//item/main.nhn?code=277630', 'https://finance.naver.com//item/main.nhn?code=002760', 'https://finance.naver.com//item/main.nhn?code=001045', 'https://finance.naver.com//item/main.nhn?code=006220', 'https://finance.naver.com//item/main.nhn?code=500019', 'https://finance.naver.com//item/main.nhn?code=007980', 'https://finance.naver.com//item/main.nhn?code=005870', 'https://finance.naver.com//item/main.nhn?code=012800', 'https://finance.naver.com//item/main.nhn?code=017900', 'https://finance.naver.com//item/main.nhn?code=130660', 'https://finance.naver.com//item/main.nhn?code=023450', 'https://finance.naver.com//item/main.nhn?code=000180', 'https://finance.naver.com//item/main.nhn?code=107590', 'https://finance.naver.com//item/main.nhn?code=013520', 'https://finance.naver.com//item/main.nhn?code=003650', 'https://finance.naver.com//item/main.nhn?code=163560', 'https://finance.naver.com//item/main.nhn?code=267290', 'https://finance.naver.com//item/main.nhn?code=013570', 'https://finance.naver.com//item/main.nhn?code=000890', 'https://finance.naver.com//item/main.nhn?code=103590', 'https://finance.naver.com//item/main.nhn?code=037270', 'https://finance.naver.com//item/main.nhn?code=001260', 'https://finance.naver.com//item/main.nhn?code=144600', 'https://finance.naver.com//item/main.nhn?code=010600', 'https://finance.naver.com//item/main.nhn?code=067830', 'https://finance.naver.com//item/main.nhn?code=530036', 'https://finance.naver.com//item/main.nhn?code=225040', 'https://finance.naver.com//item/main.nhn?code=055490', 'https://finance.naver.com//item/main.nhn?code=325010', 'https://finance.naver.com//item/main.nhn?code=012160', 'https://finance.naver.com//item/main.nhn?code=004270', 'https://finance.naver.com//item/main.nhn?code=025620', 'https://finance.naver.com//item/main.nhn?code=233160', 'https://finance.naver.com//item/main.nhn?code=194370', 'https://finance.naver.com//item/main.nhn?code=100220', 'https://finance.naver.com//item/main.nhn?code=000860', 'https://finance.naver.com//item/main.nhn?code=118000', 'https://finance.naver.com//item/main.nhn?code=530031', 'https://finance.naver.com//item/main.nhn?code=019440', 'https://finance.naver.com//item/main.nhn?code=012200', 'https://finance.naver.com//item/main.nhn?code=001470', 'https://finance.naver.com//item/main.nhn?code=004870', 'https://finance.naver.com//item/main.nhn?code=002360', 'https://finance.naver.com//item/main.nhn?code=011330', 'https://finance.naver.com//item/main.nhn?code=007860', 'https://finance.naver.com//item/main.nhn?code=092440', 'https://finance.naver.com//item/main.nhn?code=014580', 'https://finance.naver.com//item/main.nhn?code=006980', 'https://finance.naver.com//item/main.nhn?code=003480', 'https://finance.naver.com//item/main.nhn?code=013870', 'https://finance.naver.com//item/main.nhn?code=338100', 'https://finance.naver.com//item/main.nhn?code=004080', 'https://finance.naver.com//item/main.nhn?code=002300', 'https://finance.naver.com//item/main.nhn?code=002600', 'https://finance.naver.com//item/main.nhn?code=227840', 'https://finance.naver.com//item/main.nhn?code=011785', 'https://finance.naver.com//item/main.nhn?code=092220', 'https://finance.naver.com//item/main.nhn?code=005190', 'https://finance.naver.com//item/main.nhn?code=004450', 'https://finance.naver.com//item/main.nhn?code=001750', 'https://finance.naver.com//item/main.nhn?code=004720', 'https://finance.naver.com//item/main.nhn?code=580009', 'https://finance.naver.com//item/main.nhn?code=016880', 'https://finance.naver.com//item/main.nhn?code=030790', 'https://finance.naver.com//item/main.nhn?code=200880', 'https://finance.naver.com//item/main.nhn?code=002140', 'https://finance.naver.com//item/main.nhn?code=083420', 'https://finance.naver.com//item/main.nhn?code=035000', 'https://finance.naver.com//item/main.nhn?code=017550', 'https://finance.naver.com//item/main.nhn?code=005360', 'https://finance.naver.com//item/main.nhn?code=009200', 'https://finance.naver.com//item/main.nhn?code=000650', 'https://finance.naver.com//item/main.nhn?code=219480', 'https://finance.naver.com//item/main.nhn?code=007590', 'https://finance.naver.com//item/main.nhn?code=003080', 'https://finance.naver.com//item/main.nhn?code=031820', 'https://finance.naver.com//item/main.nhn?code=034300', 'https://finance.naver.com//item/main.nhn?code=134790', 'https://finance.naver.com//item/main.nhn?code=292190', 'https://finance.naver.com//item/main.nhn?code=009440', 'https://finance.naver.com//item/main.nhn?code=032560', 'https://finance.naver.com//item/main.nhn?code=017040', 'https://finance.naver.com//item/main.nhn?code=025750', 'https://finance.naver.com//item/main.nhn?code=021820', 'https://finance.naver.com//item/main.nhn?code=023000', 'https://finance.naver.com//item/main.nhn?code=085310', 'https://finance.naver.com//item/main.nhn?code=002070', 'https://finance.naver.com//item/main.nhn?code=000220', 'https://finance.naver.com//item/main.nhn?code=005800', 'https://finance.naver.com//item/main.nhn?code=003547', 'https://finance.naver.com//item/main.nhn?code=020760', 'https://finance.naver.com//item/main.nhn?code=008600', 'https://finance.naver.com//item/main.nhn?code=315960', 'https://finance.naver.com//item/main.nhn?code=000910', 'https://finance.naver.com//item/main.nhn?code=002200', 'https://finance.naver.com//item/main.nhn?code=084670', 'https://finance.naver.com//item/main.nhn?code=111110', 'https://finance.naver.com//item/main.nhn?code=014280', 'https://finance.naver.com//item/main.nhn?code=305720', 'https://finance.naver.com//item/main.nhn?code=058430', 'https://finance.naver.com//item/main.nhn?code=500027', 'https://finance.naver.com//item/main.nhn?code=008250', 'https://finance.naver.com//item/main.nhn?code=328370', 'https://finance.naver.com//item/main.nhn?code=053690', 'https://finance.naver.com//item/main.nhn?code=026940', 'https://finance.naver.com//item/main.nhn?code=114260', 'https://finance.naver.com//item/main.nhn?code=009310', 'https://finance.naver.com//item/main.nhn?code=272560', 'https://finance.naver.com//item/main.nhn?code=058850', 'https://finance.naver.com//item/main.nhn?code=058730', 'https://finance.naver.com//item/main.nhn?code=015230', 'https://finance.naver.com//item/main.nhn?code=000300', 'https://finance.naver.com//item/main.nhn?code=016740', 'https://finance.naver.com//item/main.nhn?code=33637L', 'https://finance.naver.com//item/main.nhn?code=004910', 'https://finance.naver.com//item/main.nhn?code=001550', 'https://finance.naver.com//item/main.nhn?code=005110', 'https://finance.naver.com//item/main.nhn?code=016090', 'https://finance.naver.com//item/main.nhn?code=006090', 'https://finance.naver.com//item/main.nhn?code=010100', 'https://finance.naver.com//item/main.nhn?code=002880', 'https://finance.naver.com//item/main.nhn?code=010040', 'https://finance.naver.com//item/main.nhn?code=004440', 'https://finance.naver.com//item/main.nhn?code=011690', 'https://finance.naver.com//item/main.nhn?code=006890', 'https://finance.naver.com//item/main.nhn?code=122090', 'https://finance.naver.com//item/main.nhn?code=044380', 'https://finance.naver.com//item/main.nhn?code=005750', 'https://finance.naver.com//item/main.nhn?code=006740', 'https://finance.naver.com//item/main.nhn?code=245360', 'https://finance.naver.com//item/main.nhn?code=058860', 'https://finance.naver.com//item/main.nhn?code=010690', 'https://finance.naver.com//item/main.nhn?code=012280', 'https://finance.naver.com//item/main.nhn?code=219390', 'https://finance.naver.com//item/main.nhn?code=010660', 'https://finance.naver.com//item/main.nhn?code=011500', 'https://finance.naver.com//item/main.nhn?code=002410', 'https://finance.naver.com//item/main.nhn?code=003610', 'https://finance.naver.com//item/main.nhn?code=195930', 'https://finance.naver.com//item/main.nhn?code=000500', 'https://finance.naver.com//item/main.nhn?code=090080', 'https://finance.naver.com//item/main.nhn?code=329200', 'https://finance.naver.com//item/main.nhn?code=025560', 'https://finance.naver.com//item/main.nhn?code=002920', 'https://finance.naver.com//item/main.nhn?code=119650', 'https://finance.naver.com//item/main.nhn?code=000105', 'https://finance.naver.com//item/main.nhn?code=000850', 'https://finance.naver.com//item/main.nhn?code=000590', 'https://finance.naver.com//item/main.nhn?code=006340', 'https://finance.naver.com//item/main.nhn?code=024890', 'https://finance.naver.com//item/main.nhn?code=123310', 'https://finance.naver.com//item/main.nhn?code=500029', 'https://finance.naver.com//item/main.nhn?code=091170', 'https://finance.naver.com//item/main.nhn?code=075180', 'https://finance.naver.com//item/main.nhn?code=570043', 'https://finance.naver.com//item/main.nhn?code=009770', 'https://finance.naver.com//item/main.nhn?code=105840', 'https://finance.naver.com//item/main.nhn?code=33626L', 'https://finance.naver.com//item/main.nhn?code=014710', 'https://finance.naver.com//item/main.nhn?code=027970', 'https://finance.naver.com//item/main.nhn?code=156080', 'https://finance.naver.com//item/main.nhn?code=580010', 'https://finance.naver.com//item/main.nhn?code=002630', 'https://finance.naver.com//item/main.nhn?code=071970', 'https://finance.naver.com//item/main.nhn?code=003010', 'https://finance.naver.com//item/main.nhn?code=023800', 'https://finance.naver.com//item/main.nhn?code=006570', 'https://finance.naver.com//item/main.nhn?code=570045', 'https://finance.naver.com//item/main.nhn?code=009070', 'https://finance.naver.com//item/main.nhn?code=015540', 'https://finance.naver.com//item/main.nhn?code=00499K', 'https://finance.naver.com//item/main.nhn?code=133820', 'https://finance.naver.com//item/main.nhn?code=092200', 'https://finance.naver.com//item/main.nhn?code=261240', 'https://finance.naver.com//item/main.nhn?code=004090', 'https://finance.naver.com//item/main.nhn?code=001140', 'https://finance.naver.com//item/main.nhn?code=012320', 'https://finance.naver.com//item/main.nhn?code=004140', 'https://finance.naver.com//item/main.nhn?code=155660', 'https://finance.naver.com//item/main.nhn?code=001560', 'https://finance.naver.com//item/main.nhn?code=270800', 'https://finance.naver.com//item/main.nhn?code=011090', 'https://finance.naver.com//item/main.nhn?code=570022', 'https://finance.naver.com//item/main.nhn?code=090370', 'https://finance.naver.com//item/main.nhn?code=336160', 'https://finance.naver.com//item/main.nhn?code=000040', 'https://finance.naver.com//item/main.nhn?code=017370', 'https://finance.naver.com//item/main.nhn?code=092780', 'https://finance.naver.com//item/main.nhn?code=292500', 'https://finance.naver.com//item/main.nhn?code=580007', 'https://finance.naver.com//item/main.nhn?code=069460', 'https://finance.naver.com//item/main.nhn?code=182480', 'https://finance.naver.com//item/main.nhn?code=580006', 'https://finance.naver.com//item/main.nhn?code=008870', 'https://finance.naver.com//item/main.nhn?code=122260', 'https://finance.naver.com//item/main.nhn?code=013700', 'https://finance.naver.com//item/main.nhn?code=550001', 'https://finance.naver.com//item/main.nhn?code=004830', 'https://finance.naver.com//item/main.nhn?code=285000', 'https://finance.naver.com//item/main.nhn?code=001080', 'https://finance.naver.com//item/main.nhn?code=014440', 'https://finance.naver.com//item/main.nhn?code=530037', 'https://finance.naver.com//item/main.nhn?code=302190', 'https://finance.naver.com//item/main.nhn?code=023150', 'https://finance.naver.com//item/main.nhn?code=008260', 'https://finance.naver.com//item/main.nhn?code=004410', 'https://finance.naver.com//item/main.nhn?code=019685', 'https://finance.naver.com//item/main.nhn?code=078935', 'https://finance.naver.com//item/main.nhn?code=041650', 'https://finance.naver.com//item/main.nhn?code=069730', 'https://finance.naver.com//item/main.nhn?code=006805', 'https://finance.naver.com//item/main.nhn?code=006370', 'https://finance.naver.com//item/main.nhn?code=001275', 'https://finance.naver.com//item/main.nhn?code=003680', 'https://finance.naver.com//item/main.nhn?code=305080', 'https://finance.naver.com//item/main.nhn?code=014130', 'https://finance.naver.com//item/main.nhn?code=292050', 'https://finance.naver.com//item/main.nhn?code=136340', 'https://finance.naver.com//item/main.nhn?code=337140', 'https://finance.naver.com//item/main.nhn?code=010145', 'https://finance.naver.com//item/main.nhn?code=001380', 'https://finance.naver.com//item/main.nhn?code=013360', 'https://finance.naver.com//item/main.nhn?code=007120', 'https://finance.naver.com//item/main.nhn?code=006660', 'https://finance.naver.com//item/main.nhn?code=005010', 'https://finance.naver.com//item/main.nhn?code=008420', 'https://finance.naver.com//item/main.nhn?code=033250', 'https://finance.naver.com//item/main.nhn?code=283580', 'https://finance.naver.com//item/main.nhn?code=010400', 'https://finance.naver.com//item/main.nhn?code=013000', 'https://finance.naver.com//item/main.nhn?code=129260', 'https://finance.naver.com//item/main.nhn?code=007630', 'https://finance.naver.com//item/main.nhn?code=295000', 'https://finance.naver.com//item/main.nhn?code=520009', 'https://finance.naver.com//item/main.nhn?code=008110', 'https://finance.naver.com//item/main.nhn?code=009810', 'https://finance.naver.com//item/main.nhn?code=530053', 'https://finance.naver.com//item/main.nhn?code=114820', 'https://finance.naver.com//item/main.nhn?code=120115', 'https://finance.naver.com//item/main.nhn?code=019180', 'https://finance.naver.com//item/main.nhn?code=005305', 'https://finance.naver.com//item/main.nhn?code=227830', 'https://finance.naver.com//item/main.nhn?code=510008', 'https://finance.naver.com//item/main.nhn?code=008775', 'https://finance.naver.com//item/main.nhn?code=007280', 'https://finance.naver.com//item/main.nhn?code=007610', 'https://finance.naver.com//item/main.nhn?code=025820', 'https://finance.naver.com//item/main.nhn?code=000157', 'https://finance.naver.com//item/main.nhn?code=010770', 'https://finance.naver.com//item/main.nhn?code=002710', 'https://finance.naver.com//item/main.nhn?code=570030', 'https://finance.naver.com//item/main.nhn?code=023350', 'https://finance.naver.com//item/main.nhn?code=580008', 'https://finance.naver.com//item/main.nhn?code=102970', 'https://finance.naver.com//item/main.nhn?code=195980', 'https://finance.naver.com//item/main.nhn?code=157490', 'https://finance.naver.com//item/main.nhn?code=011700', 'https://finance.naver.com//item/main.nhn?code=006880', 'https://finance.naver.com//item/main.nhn?code=002870', 'https://finance.naver.com//item/main.nhn?code=570029', 'https://finance.naver.com//item/main.nhn?code=130730', 'https://finance.naver.com//item/main.nhn?code=176950', 'https://finance.naver.com//item/main.nhn?code=001020', 'https://finance.naver.com//item/main.nhn?code=331910', 'https://finance.naver.com//item/main.nhn?code=002820', 'https://finance.naver.com//item/main.nhn?code=096300', 'https://finance.naver.com//item/main.nhn?code=003465', 'https://finance.naver.com//item/main.nhn?code=003720', 'https://finance.naver.com//item/main.nhn?code=006125', 'https://finance.naver.com//item/main.nhn?code=030720', 'https://finance.naver.com//item/main.nhn?code=006110', 'https://finance.naver.com//item/main.nhn?code=217780', 'https://finance.naver.com//item/main.nhn?code=003780', 'https://finance.naver.com//item/main.nhn?code=155900', 'https://finance.naver.com//item/main.nhn?code=004100', 'https://finance.naver.com//item/main.nhn?code=072130', 'https://finance.naver.com//item/main.nhn?code=123700', 'https://finance.naver.com//item/main.nhn?code=023810', 'https://finance.naver.com//item/main.nhn?code=550002', 'https://finance.naver.com//item/main.nhn?code=266360', 'https://finance.naver.com//item/main.nhn?code=025530', 'https://finance.naver.com//item/main.nhn?code=550009', 'https://finance.naver.com//item/main.nhn?code=091160', 'https://finance.naver.com//item/main.nhn?code=500022', 'https://finance.naver.com//item/main.nhn?code=114100', 'https://finance.naver.com//item/main.nhn?code=009180', 'https://finance.naver.com//item/main.nhn?code=000760', 'https://finance.naver.com//item/main.nhn?code=550008', 'https://finance.naver.com//item/main.nhn?code=084870', 'https://finance.naver.com//item/main.nhn?code=069640', 'https://finance.naver.com//item/main.nhn?code=018470', 'https://finance.naver.com//item/main.nhn?code=252420', 'https://finance.naver.com//item/main.nhn?code=292160', 'https://finance.naver.com//item/main.nhn?code=520004', 'https://finance.naver.com//item/main.nhn?code=530023', 'https://finance.naver.com//item/main.nhn?code=500020', 'https://finance.naver.com//item/main.nhn?code=002220', 'https://finance.naver.com//item/main.nhn?code=272570', 'https://finance.naver.com//item/main.nhn?code=590010', 'https://finance.naver.com//item/main.nhn?code=169950', 'https://finance.naver.com//item/main.nhn?code=001620', 'https://finance.naver.com//item/main.nhn?code=252400', 'https://finance.naver.com//item/main.nhn?code=005820', 'https://finance.naver.com//item/main.nhn?code=145270', 'https://finance.naver.com//item/main.nhn?code=316670', 'https://finance.naver.com//item/main.nhn?code=500037', 'https://finance.naver.com//item/main.nhn?code=550058', 'https://finance.naver.com//item/main.nhn?code=005450', 'https://finance.naver.com//item/main.nhn?code=500053', 'https://finance.naver.com//item/main.nhn?code=276970', 'https://finance.naver.com//item/main.nhn?code=279530', 'https://finance.naver.com//item/main.nhn?code=243880', 'https://finance.naver.com//item/main.nhn?code=114470', 'https://finance.naver.com//item/main.nhn?code=001210', 'https://finance.naver.com//item/main.nhn?code=051630', 'https://finance.naver.com//item/main.nhn?code=093240', 'https://finance.naver.com//item/main.nhn?code=024070', 'https://finance.naver.com//item/main.nhn?code=304770', 'https://finance.naver.com//item/main.nhn?code=266370', 'https://finance.naver.com//item/main.nhn?code=099140', 'https://finance.naver.com//item/main.nhn?code=011420', 'https://finance.naver.com//item/main.nhn?code=500014', 'https://finance.naver.com//item/main.nhn?code=333960', 'https://finance.naver.com//item/main.nhn?code=023960', 'https://finance.naver.com//item/main.nhn?code=250780', 'https://finance.naver.com//item/main.nhn?code=245340', 'https://finance.naver.com//item/main.nhn?code=018500', 'https://finance.naver.com//item/main.nhn?code=071950', 'https://finance.naver.com//item/main.nhn?code=174360', 'https://finance.naver.com//item/main.nhn?code=009140', 'https://finance.naver.com//item/main.nhn?code=530019', 'https://finance.naver.com//item/main.nhn?code=223190', 'https://finance.naver.com//item/main.nhn?code=590009', 'https://finance.naver.com//item/main.nhn?code=088790', 'https://finance.naver.com//item/main.nhn?code=049800', 'https://finance.naver.com//item/main.nhn?code=091230', 'https://finance.naver.com//item/main.nhn?code=071090', 'https://finance.naver.com//item/main.nhn?code=590007', 'https://finance.naver.com//item/main.nhn?code=530055', 'https://finance.naver.com//item/main.nhn?code=277650', 'https://finance.naver.com//item/main.nhn?code=272910', 'https://finance.naver.com//item/main.nhn?code=024900', 'https://finance.naver.com//item/main.nhn?code=550014', 'https://finance.naver.com//item/main.nhn?code=003280', 'https://finance.naver.com//item/main.nhn?code=204450', 'https://finance.naver.com//item/main.nhn?code=172580', 'https://finance.naver.com//item/main.nhn?code=329750', 'https://finance.naver.com//item/main.nhn?code=012170', 'https://finance.naver.com//item/main.nhn?code=333980', 'https://finance.naver.com//item/main.nhn?code=007575', 'https://finance.naver.com//item/main.nhn?code=015020', 'https://finance.naver.com//item/main.nhn?code=530014', 'https://finance.naver.com//item/main.nhn?code=530015', 'https://finance.naver.com//item/main.nhn?code=500009', 'https://finance.naver.com//item/main.nhn?code=123320', 'https://finance.naver.com//item/main.nhn?code=108450', 'https://finance.naver.com//item/main.nhn?code=014910', 'https://finance.naver.com//item/main.nhn?code=510001', 'https://finance.naver.com//item/main.nhn?code=002690', 'https://finance.naver.com//item/main.nhn?code=195920', 'https://finance.naver.com//item/main.nhn?code=010420', 'https://finance.naver.com//item/main.nhn?code=261250', 'https://finance.naver.com//item/main.nhn?code=500024', 'https://finance.naver.com//item/main.nhn?code=137610', 'https://finance.naver.com//item/main.nhn?code=530005', 'https://finance.naver.com//item/main.nhn?code=001770', 'https://finance.naver.com//item/main.nhn?code=500016', 'https://finance.naver.com//item/main.nhn?code=108675', 'https://finance.naver.com//item/main.nhn?code=138230', 'https://finance.naver.com//item/main.nhn?code=011230', 'https://finance.naver.com//item/main.nhn?code=590018', 'https://finance.naver.com//item/main.nhn?code=590008', 'https://finance.naver.com//item/main.nhn?code=000087', 'https://finance.naver.com//item/main.nhn?code=590016', 'https://finance.naver.com//item/main.nhn?code=213610', 'https://finance.naver.com//item/main.nhn?code=570044', 'https://finance.naver.com//item/main.nhn?code=570003', 'https://finance.naver.com//item/main.nhn?code=010640', 'https://finance.naver.com//item/main.nhn?code=332620', 'https://finance.naver.com//item/main.nhn?code=001420', 'https://finance.naver.com//item/main.nhn?code=590005', 'https://finance.naver.com//item/main.nhn?code=006200', 'https://finance.naver.com//item/main.nhn?code=520014', 'https://finance.naver.com//item/main.nhn?code=570023', 'https://finance.naver.com//item/main.nhn?code=001465', 'https://finance.naver.com//item/main.nhn?code=012600', 'https://finance.naver.com//item/main.nhn?code=278620', 'https://finance.naver.com//item/main.nhn?code=550044', 'https://finance.naver.com//item/main.nhn?code=500035', 'https://finance.naver.com//item/main.nhn?code=18064K', 'https://finance.naver.com//item/main.nhn?code=011300', 'https://finance.naver.com//item/main.nhn?code=314250', 'https://finance.naver.com//item/main.nhn?code=205720', 'https://finance.naver.com//item/main.nhn?code=003475', 'https://finance.naver.com//item/main.nhn?code=590017', 'https://finance.naver.com//item/main.nhn?code=140910', 'https://finance.naver.com//item/main.nhn?code=337150', 'https://finance.naver.com//item/main.nhn?code=004920', 'https://finance.naver.com//item/main.nhn?code=263190', 'https://finance.naver.com//item/main.nhn?code=266410', 'https://finance.naver.com//item/main.nhn?code=530065', 'https://finance.naver.com//item/main.nhn?code=500003', 'https://finance.naver.com//item/main.nhn?code=000885', 'https://finance.naver.com//item/main.nhn?code=301440', 'https://finance.naver.com//item/main.nhn?code=530067', 'https://finance.naver.com//item/main.nhn?code=310960', 'https://finance.naver.com//item/main.nhn?code=003415', 'https://finance.naver.com//item/main.nhn?code=332610', 'https://finance.naver.com//item/main.nhn?code=590006', 'https://finance.naver.com//item/main.nhn?code=530012', 'https://finance.naver.com//item/main.nhn?code=550026', 'https://finance.naver.com//item/main.nhn?code=500018', 'https://finance.naver.com//item/main.nhn?code=520012', 'https://finance.naver.com//item/main.nhn?code=530021', 'https://finance.naver.com//item/main.nhn?code=211900', 'https://finance.naver.com//item/main.nhn?code=333940', 'https://finance.naver.com//item/main.nhn?code=520021', 'https://finance.naver.com//item/main.nhn?code=139270', 'https://finance.naver.com//item/main.nhn?code=550033', 'https://finance.naver.com//item/main.nhn?code=590004', 'https://finance.naver.com//item/main.nhn?code=590003', 'https://finance.naver.com//item/main.nhn?code=174350', 'https://finance.naver.com//item/main.nhn?code=520006', 'https://finance.naver.com//item/main.nhn?code=304940', 'https://finance.naver.com//item/main.nhn?code=200250', 'https://finance.naver.com//item/main.nhn?code=152870', 'https://finance.naver.com//item/main.nhn?code=530017', 'https://finance.naver.com//item/main.nhn?code=329650', 'https://finance.naver.com//item/main.nhn?code=002420', 'https://finance.naver.com//item/main.nhn?code=305050', 'https://finance.naver.com//item/main.nhn?code=236350', 'https://finance.naver.com//item/main.nhn?code=530061', 'https://finance.naver.com//item/main.nhn?code=227540', 'https://finance.naver.com//item/main.nhn?code=009415', 'https://finance.naver.com//item/main.nhn?code=510010', 'https://finance.naver.com//item/main.nhn?code=520020', 'https://finance.naver.com//item/main.nhn?code=000950', 'https://finance.naver.com//item/main.nhn?code=091180', 'https://finance.naver.com//item/main.nhn?code=520003', 'https://finance.naver.com//item/main.nhn?code=253250', 'https://finance.naver.com//item/main.nhn?code=153360', 'https://finance.naver.com//item/main.nhn?code=004365', 'https://finance.naver.com//item/main.nhn?code=204210', 'https://finance.naver.com//item/main.nhn?code=225800', 'https://finance.naver.com//item/main.nhn?code=253160', 'https://finance.naver.com//item/main.nhn?code=276650', 'https://finance.naver.com//item/main.nhn?code=289040', 'https://finance.naver.com//item/main.nhn?code=269540', 'https://finance.naver.com//item/main.nhn?code=530020', 'https://finance.naver.com//item/main.nhn?code=333970', 'https://finance.naver.com//item/main.nhn?code=009835', 'https://finance.naver.com//item/main.nhn?code=550012', 'https://finance.naver.com//item/main.nhn?code=008500', 'https://finance.naver.com//item/main.nhn?code=500008', 'https://finance.naver.com//item/main.nhn?code=003925', 'https://finance.naver.com//item/main.nhn?code=550004', 'https://finance.naver.com//item/main.nhn?code=010580', 'https://finance.naver.com//item/main.nhn?code=341850', 'https://finance.naver.com//item/main.nhn?code=227570', 'https://finance.naver.com//item/main.nhn?code=003495', 'https://finance.naver.com//item/main.nhn?code=500028', 'https://finance.naver.com//item/main.nhn?code=500017', 'https://finance.naver.com//item/main.nhn?code=230480', 'https://finance.naver.com//item/main.nhn?code=114460', 'https://finance.naver.com//item/main.nhn?code=137930', 'https://finance.naver.com//item/main.nhn?code=304760', 'https://finance.naver.com//item/main.nhn?code=219900', 'https://finance.naver.com//item/main.nhn?code=001685', 'https://finance.naver.com//item/main.nhn?code=225130', 'https://finance.naver.com//item/main.nhn?code=530016', 'https://finance.naver.com//item/main.nhn?code=217790', 'https://finance.naver.com//item/main.nhn?code=500054', 'https://finance.naver.com//item/main.nhn?code=292730', 'https://finance.naver.com//item/main.nhn?code=530066', 'https://finance.naver.com//item/main.nhn?code=108590', 'https://finance.naver.com//item/main.nhn?code=237370', 'https://finance.naver.com//item/main.nhn?code=530032', 'https://finance.naver.com//item/main.nhn?code=500047', 'https://finance.naver.com//item/main.nhn?code=152380', 'https://finance.naver.com//item/main.nhn?code=354500', 'https://finance.naver.com//item/main.nhn?code=251590', 'https://finance.naver.com//item/main.nhn?code=500042', 'https://finance.naver.com//item/main.nhn?code=590012', 'https://finance.naver.com//item/main.nhn?code=590013', 'https://finance.naver.com//item/main.nhn?code=530022', 'https://finance.naver.com//item/main.nhn?code=550013', 'https://finance.naver.com//item/main.nhn?code=510007', 'https://finance.naver.com//item/main.nhn?code=550005', 'https://finance.naver.com//item/main.nhn?code=500001', 'https://finance.naver.com//item/main.nhn?code=500004', 'https://finance.naver.com//item/main.nhn?code=500050', 'https://finance.naver.com//item/main.nhn?code=500046', 'https://finance.naver.com//item/main.nhn?code=570009', 'https://finance.naver.com//item/main.nhn?code=015260', 'https://finance.naver.com//item/main.nhn?code=550007', 'https://finance.naver.com//item/main.nhn?code=520013', 'https://finance.naver.com//item/main.nhn?code=530033', 'https://finance.naver.com//item/main.nhn?code=304660', 'https://finance.naver.com//item/main.nhn?code=147970', 'https://finance.naver.com//item/main.nhn?code=530018', 'https://finance.naver.com//item/main.nhn?code=261120', 'https://finance.naver.com//item/main.nhn?code=500039', 'https://finance.naver.com//item/main.nhn?code=019490', 'https://finance.naver.com//item/main.nhn?code=570026', 'https://finance.naver.com//item/main.nhn?code=256750', 'https://finance.naver.com//item/main.nhn?code=570008', 'https://finance.naver.com//item/main.nhn?code=244580', 'https://finance.naver.com//item/main.nhn?code=500002', 'https://finance.naver.com//item/main.nhn?code=152500', 'https://finance.naver.com//item/main.nhn?code=520011', 'https://finance.naver.com//item/main.nhn?code=550011', 'https://finance.naver.com//item/main.nhn?code=550047', 'https://finance.naver.com//item/main.nhn?code=277640', 'https://finance.naver.com//item/main.nhn?code=500030', 'https://finance.naver.com//item/main.nhn?code=276990', 'https://finance.naver.com//item/main.nhn?code=001515', 'https://finance.naver.com//item/main.nhn?code=500007', 'https://finance.naver.com//item/main.nhn?code=002355', 'https://finance.naver.com//item/main.nhn?code=005257', 'https://finance.naver.com//item/main.nhn?code=337120', 'https://finance.naver.com//item/main.nhn?code=550018', 'https://finance.naver.com//item/main.nhn?code=277540', 'https://finance.naver.com//item/main.nhn?code=500051', 'https://finance.naver.com//item/main.nhn?code=005030', 'https://finance.naver.com//item/main.nhn?code=210780', 'https://finance.naver.com//item/main.nhn?code=292750', 'https://finance.naver.com//item/main.nhn?code=256440', 'https://finance.naver.com//item/main.nhn?code=279540', 'https://finance.naver.com//item/main.nhn?code=520007', 'https://finance.naver.com//item/main.nhn?code=109070', 'https://finance.naver.com//item/main.nhn?code=248270', 'https://finance.naver.com//item/main.nhn?code=025890', 'https://finance.naver.com//item/main.nhn?code=530009', 'https://finance.naver.com//item/main.nhn?code=292150', 'https://finance.naver.com//item/main.nhn?code=182490', 'https://finance.naver.com//item/main.nhn?code=550010', 'https://finance.naver.com//item/main.nhn?code=322410', 'https://finance.naver.com//item/main.nhn?code=281990', 'https://finance.naver.com//item/main.nhn?code=117700', 'https://finance.naver.com//item/main.nhn?code=287180', 'https://finance.naver.com//item/main.nhn?code=500036', 'https://finance.naver.com//item/main.nhn?code=520015', 'https://finance.naver.com//item/main.nhn?code=001745', 'https://finance.naver.com//item/main.nhn?code=285690', 'https://finance.naver.com//item/main.nhn?code=500006', 'https://finance.naver.com//item/main.nhn?code=229720', 'https://finance.naver.com//item/main.nhn?code=304780', 'https://finance.naver.com//item/main.nhn?code=500023', 'https://finance.naver.com//item/main.nhn?code=185680', 'https://finance.naver.com//item/main.nhn?code=570027', 'https://finance.naver.com//item/main.nhn?code=530006', 'https://finance.naver.com//item/main.nhn?code=004835', 'https://finance.naver.com//item/main.nhn?code=550006', 'https://finance.naver.com//item/main.nhn?code=530008', 'https://finance.naver.com//item/main.nhn?code=530011', 'https://finance.naver.com//item/main.nhn?code=35320K', 'https://finance.naver.com//item/main.nhn?code=550041', 'https://finance.naver.com//item/main.nhn?code=309230', 'https://finance.naver.com//item/main.nhn?code=550016', 'https://finance.naver.com//item/main.nhn?code=183700', 'https://finance.naver.com//item/main.nhn?code=316300', 'https://finance.naver.com//item/main.nhn?code=002025', 'https://finance.naver.com//item/main.nhn?code=248260', 'https://finance.naver.com//item/main.nhn?code=208470', 'https://finance.naver.com//item/main.nhn?code=225030', 'https://finance.naver.com//item/main.nhn?code=000725', 'https://finance.naver.com//item/main.nhn?code=211560', 'https://finance.naver.com//item/main.nhn?code=228790', 'https://finance.naver.com//item/main.nhn?code=167860', 'https://finance.naver.com//item/main.nhn?code=261140', 'https://finance.naver.com//item/main.nhn?code=261260', 'https://finance.naver.com//item/main.nhn?code=550046', 'https://finance.naver.com//item/main.nhn?code=237350', 'https://finance.naver.com//item/main.nhn?code=008355', 'https://finance.naver.com//item/main.nhn?code=333950', 'https://finance.naver.com//item/main.nhn?code=203780', 'https://finance.naver.com//item/main.nhn?code=000075', 'https://finance.naver.com//item/main.nhn?code=244620', 'https://finance.naver.com//item/main.nhn?code=284430', 'https://finance.naver.com//item/main.nhn?code=004255', 'https://finance.naver.com//item/main.nhn?code=252730', 'https://finance.naver.com//item/main.nhn?code=218420', 'https://finance.naver.com//item/main.nhn?code=590011', 'https://finance.naver.com//item/main.nhn?code=152280', 'https://finance.naver.com//item/main.nhn?code=322400', 'https://finance.naver.com//item/main.nhn?code=500010', 'https://finance.naver.com//item/main.nhn?code=530002', 'https://finance.naver.com//item/main.nhn?code=237440', 'https://finance.naver.com//item/main.nhn?code=225050', 'https://finance.naver.com//item/main.nhn?code=315270', 'https://finance.naver.com//item/main.nhn?code=007815', 'https://finance.naver.com//item/main.nhn?code=280320', 'https://finance.naver.com//item/main.nhn?code=550015', 'https://finance.naver.com//item/main.nhn?code=570035', 'https://finance.naver.com//item/main.nhn?code=012205', 'https://finance.naver.com//item/main.nhn?code=530056', 'https://finance.naver.com//item/main.nhn?code=570028', 'https://finance.naver.com//item/main.nhn?code=140950', 'https://finance.naver.com//item/main.nhn?code=261060', 'https://finance.naver.com//item/main.nhn?code=500011', 'https://finance.naver.com//item/main.nhn?code=145995', 'https://finance.naver.com//item/main.nhn?code=239660', 'https://finance.naver.com//item/main.nhn?code=289480', 'https://finance.naver.com//item/main.nhn?code=280930', 'https://finance.naver.com//item/main.nhn?code=570034', 'https://finance.naver.com//item/main.nhn?code=004105', 'https://finance.naver.com//item/main.nhn?code=272220', 'https://finance.naver.com//item/main.nhn?code=500013', 'https://finance.naver.com//item/main.nhn?code=570047', 'https://finance.naver.com//item/main.nhn?code=282000', 'https://finance.naver.com//item/main.nhn?code=000225', 'https://finance.naver.com//item/main.nhn?code=266420', 'https://finance.naver.com//item/main.nhn?code=276000', 'https://finance.naver.com//item/main.nhn?code=251600', 'https://finance.naver.com//item/main.nhn?code=570037', 'https://finance.naver.com//item/main.nhn?code=550045', 'https://finance.naver.com//item/main.nhn?code=530003', 'https://finance.naver.com//item/main.nhn?code=530064', 'https://finance.naver.com//item/main.nhn?code=500041', 'https://finance.naver.com//item/main.nhn?code=319640', 'https://finance.naver.com//item/main.nhn?code=329670', 'https://finance.naver.com//item/main.nhn?code=329660', 'https://finance.naver.com//item/main.nhn?code=269420', 'https://finance.naver.com//item/main.nhn?code=241180', 'https://finance.naver.com//item/main.nhn?code=520010', 'https://finance.naver.com//item/main.nhn?code=308620', 'https://finance.naver.com//item/main.nhn?code=500005', 'https://finance.naver.com//item/main.nhn?code=139250', 'https://finance.naver.com//item/main.nhn?code=253150', 'https://finance.naver.com//item/main.nhn?code=570021', 'https://finance.naver.com//item/main.nhn?code=342140', 'https://finance.naver.com//item/main.nhn?code=005725', 'https://finance.naver.com//item/main.nhn?code=570049', 'https://finance.naver.com//item/main.nhn?code=265690', 'https://finance.naver.com//item/main.nhn?code=168300', 'https://finance.naver.com//item/main.nhn?code=306950', 'https://finance.naver.com//item/main.nhn?code=139230', 'https://finance.naver.com//item/main.nhn?code=570048', 'https://finance.naver.com//item/main.nhn?code=266160', 'https://finance.naver.com//item/main.nhn?code=500044', 'https://finance.naver.com//item/main.nhn?code=570038', 'https://finance.naver.com//item/main.nhn?code=500049', 'https://finance.naver.com//item/main.nhn?code=004565', 'https://finance.naver.com//item/main.nhn?code=500012', 'https://finance.naver.com//item/main.nhn?code=520005', 'https://finance.naver.com//item/main.nhn?code=275300', 'https://finance.naver.com//item/main.nhn?code=253290', 'https://finance.naver.com//item/main.nhn?code=002995', 'https://finance.naver.com//item/main.nhn?code=266550', 'https://finance.naver.com//item/main.nhn?code=500048', 'https://finance.naver.com//item/main.nhn?code=570036', 'https://finance.naver.com//item/main.nhn?code=003535', 'https://finance.naver.com//item/main.nhn?code=253230', 'https://finance.naver.com//item/main.nhn?code=346000', 'https://finance.naver.com//item/main.nhn?code=510004', 'https://finance.naver.com//item/main.nhn?code=500043', 'https://finance.naver.com//item/main.nhn?code=292560', 'https://finance.naver.com//item/main.nhn?code=570032', 'https://finance.naver.com//item/main.nhn?code=271050', 'https://finance.naver.com//item/main.nhn?code=307010', 'https://finance.naver.com//item/main.nhn?code=530007', 'https://finance.naver.com//item/main.nhn?code=306520', 'https://finance.naver.com//item/main.nhn?code=500040', 'https://finance.naver.com//item/main.nhn?code=275290', 'https://finance.naver.com//item/main.nhn?code=354350', 'https://finance.naver.com//item/main.nhn?code=250730', 'https://finance.naver.com//item/main.nhn?code=247800', 'https://finance.naver.com//item/main.nhn?code=570025', 'https://finance.naver.com//item/main.nhn?code=006345', 'https://finance.naver.com//item/main.nhn?code=530004', 'https://finance.naver.com//item/main.nhn?code=570020', 'https://finance.naver.com//item/main.nhn?code=261270', 'https://finance.naver.com//item/main.nhn?code=261110', 'https://finance.naver.com//item/main.nhn?code=500052', 'https://finance.naver.com//item/main.nhn?code=228820', 'https://finance.naver.com//item/main.nhn?code=004545', 'https://finance.naver.com//item/main.nhn?code=245350', 'https://finance.naver.com//item/main.nhn?code=352560', 'https://finance.naver.com//item/main.nhn?code=291630', 'https://finance.naver.com//item/main.nhn?code=570024', 'https://finance.naver.com//item/main.nhn?code=238720', 'https://finance.naver.com//item/main.nhn?code=570031', 'https://finance.naver.com//item/main.nhn?code=104520', 'https://finance.naver.com//item/main.nhn?code=139660', 'https://finance.naver.com//item/main.nhn?code=280920', 'https://finance.naver.com//item/main.nhn?code=000145', 'https://finance.naver.com//item/main.nhn?code=117680', 'https://finance.naver.com//item/main.nhn?code=500021', 'https://finance.naver.com//item/main.nhn?code=001795', 'https://finance.naver.com//item/main.nhn?code=510003', 'https://finance.naver.com//item/main.nhn?code=300950', 'https://finance.naver.com//item/main.nhn?code=292570', 'https://finance.naver.com//item/main.nhn?code=159800', 'https://finance.naver.com//item/main.nhn?code=138520', 'https://finance.naver.com//item/main.nhn?code=510005', 'https://finance.naver.com//item/main.nhn?code=101280', 'https://finance.naver.com//item/main.nhn?code=183710', 'https://finance.naver.com//item/main.nhn?code=004415', 'https://finance.naver.com//item/main.nhn?code=083370', 'https://finance.naver.com//item/main.nhn?code=550053', 'https://finance.naver.com//item/main.nhn?code=260200', 'https://finance.naver.com//item/main.nhn?code=352540', 'https://finance.naver.com//item/main.nhn?code=302170', 'https://finance.naver.com//item/main.nhn?code=160580', 'https://finance.naver.com//item/main.nhn?code=247790', 'https://finance.naver.com//item/main.nhn?code=140710', 'https://finance.naver.com//item/main.nhn?code=100910', 'https://finance.naver.com//item/main.nhn?code=570042', 'https://finance.naver.com//item/main.nhn?code=200030', 'https://finance.naver.com//item/main.nhn?code=530063', 'https://finance.naver.com//item/main.nhn?code=261070', 'https://finance.naver.com//item/main.nhn?code=243890', 'https://finance.naver.com//item/main.nhn?code=310080', 'https://finance.naver.com//item/main.nhn?code=014825', 'https://finance.naver.com//item/main.nhn?code=550055', 'https://finance.naver.com//item/main.nhn?code=267490', 'https://finance.naver.com//item/main.nhn?code=302200', 'https://finance.naver.com//item/main.nhn?code=220130', 'https://finance.naver.com//item/main.nhn?code=131890', 'https://finance.naver.com//item/main.nhn?code=153270', 'https://finance.naver.com//item/main.nhn?code=319870', 'https://finance.naver.com//item/main.nhn?code=307510', 'https://finance.naver.com//item/main.nhn?code=302180', 'https://finance.naver.com//item/main.nhn?code=337160', 'https://finance.naver.com//item/main.nhn?code=143460', 'https://finance.naver.com//item/main.nhn?code=011155', 'https://finance.naver.com//item/main.nhn?code=181480', 'https://finance.naver.com//item/main.nhn?code=001065', 'https://finance.naver.com//item/main.nhn?code=215620', 'https://finance.naver.com//item/main.nhn?code=105780', 'https://finance.naver.com//item/main.nhn?code=105010', 'https://finance.naver.com//item/main.nhn?code=117690', 'https://finance.naver.com//item/main.nhn?code=117460', 'https://finance.naver.com//item/main.nhn?code=234310', 'https://finance.naver.com//item/main.nhn?code=550052', 'https://finance.naver.com//item/main.nhn?code=298340', 'https://finance.naver.com//item/main.nhn?code=00806K', 'https://finance.naver.com//item/main.nhn?code=307610', 'https://finance.naver.com//item/main.nhn?code=260270', 'https://finance.naver.com//item/main.nhn?code=510009', 'https://finance.naver.com//item/main.nhn?code=322130', 'https://finance.naver.com//item/main.nhn?code=005745', 'https://finance.naver.com//item/main.nhn?code=291620', 'https://finance.naver.com//item/main.nhn?code=334690', 'https://finance.naver.com//item/main.nhn?code=003075', 'https://finance.naver.com//item/main.nhn?code=005965', 'https://finance.naver.com//item/main.nhn?code=306960', 'https://finance.naver.com//item/main.nhn?code=145850', 'https://finance.naver.com//item/main.nhn?code=253280', 'https://finance.naver.com//item/main.nhn?code=196030', 'https://finance.naver.com//item/main.nhn?code=000995', 'https://finance.naver.com//item/main.nhn?code=253240', 'https://finance.naver.com//item/main.nhn?code=252650', 'https://finance.naver.com//item/main.nhn?code=251890', 'https://finance.naver.com//item/main.nhn?code=252720', 'https://finance.naver.com//item/main.nhn?code=004985', 'https://finance.naver.com//item/main.nhn?code=292340', 'https://finance.naver.com//item/main.nhn?code=189400', 'https://finance.naver.com//item/main.nhn?code=099340', 'https://finance.naver.com//item/main.nhn?code=267440', 'https://finance.naver.com//item/main.nhn?code=500038', 'https://finance.naver.com//item/main.nhn?code=145670', 'https://finance.naver.com//item/main.nhn?code=302210', 'https://finance.naver.com//item/main.nhn?code=296710', 'https://finance.naver.com//item/main.nhn?code=291680', 'https://finance.naver.com//item/main.nhn?code=292580', 'https://finance.naver.com//item/main.nhn?code=228810', 'https://finance.naver.com//item/main.nhn?code=176710', 'https://finance.naver.com//item/main.nhn?code=241390', 'https://finance.naver.com//item/main.nhn?code=342600', 'https://finance.naver.com//item/main.nhn?code=550054', 'https://finance.naver.com//item/main.nhn?code=342500', 'https://finance.naver.com//item/main.nhn?code=289670', 'https://finance.naver.com//item/main.nhn?code=300640', 'https://finance.naver.com//item/main.nhn?code=298770', 'https://finance.naver.com//item/main.nhn?code=530010', 'https://finance.naver.com//item/main.nhn?code=342610', 'https://finance.naver.com//item/main.nhn?code=354240', 'https://finance.naver.com//item/main.nhn?code=014915', 'https://finance.naver.com//item/main.nhn?code=272230', 'https://finance.naver.com//item/main.nhn?code=238670', 'https://finance.naver.com//item/main.nhn?code=342620', 'https://finance.naver.com//item/main.nhn?code=084695', 'https://finance.naver.com//item/main.nhn?code=166400', 'https://finance.naver.com//item/main.nhn?code=26490K', 'https://finance.naver.com//item/main.nhn?code=290130', 'https://finance.naver.com//item/main.nhn?code=090355', 'https://finance.naver.com//item/main.nhn?code=102960', 'https://finance.naver.com//item/main.nhn?code=014285', 'https://finance.naver.com//item/main.nhn?code=271060', 'https://finance.naver.com//item/main.nhn?code=138910', 'https://finance.naver.com//item/main.nhn?code=138920', 'https://finance.naver.com//item/main.nhn?code=244660', 'https://finance.naver.com//item/main.nhn?code=275750', 'https://finance.naver.com//item/main.nhn?code=291660', 'https://finance.naver.com//item/main.nhn?code=225060', 'https://finance.naver.com//item/main.nhn?code=275280', 'https://finance.naver.com//item/main.nhn?code=550043', 'https://finance.naver.com//item/main.nhn?code=307020', 'https://finance.naver.com//item/main.nhn?code=301410', 'https://finance.naver.com//item/main.nhn?code=192720', 'https://finance.naver.com//item/main.nhn?code=213630', 'https://finance.naver.com//item/main.nhn?code=291130', 'https://finance.naver.com//item/main.nhn?code=139320', 'https://finance.naver.com//item/main.nhn?code=530062', 'https://finance.naver.com//item/main.nhn?code=170350', 'https://finance.naver.com//item/main.nhn?code=307520', 'https://finance.naver.com//item/main.nhn?code=322150', 'https://finance.naver.com//item/main.nhn?code=301400', 'https://finance.naver.com//item/main.nhn?code=510002', 'https://finance.naver.com//item/main.nhn?code=269530', 'https://finance.naver.com//item/main.nhn?code=510006', 'https://finance.naver.com//item/main.nhn?code=016385', 'https://finance.naver.com//item/main.nhn?code=307620', 'https://finance.naver.com//item/main.nhn?code=292590', 'https://finance.naver.com//item/main.nhn?code=266390', 'https://finance.naver.com//item/main.nhn?code=139290', 'https://finance.naver.com//item/main.nhn?code=287330', 'https://finance.naver.com//item/main.nhn?code=211260', 'https://finance.naver.com//item/main.nhn?code=322120', 'https://finance.naver.com//item/main.nhn?code=292770', 'https://finance.naver.com//item/main.nhn?code=252410', 'https://finance.naver.com//item/main.nhn?code=299080', 'https://finance.naver.com//item/main.nhn?code=300610', 'https://finance.naver.com//item/main.nhn?code=139220', 'https://finance.naver.com//item/main.nhn?code=002785', 'https://finance.naver.com//item/main.nhn?code=290080', 'https://finance.naver.com//item/main.nhn?code=321410', 'https://finance.naver.com//item/main.nhn?code=138540', 'https://finance.naver.com//item/main.nhn?code=247780', 'https://finance.naver.com//item/main.nhn?code=140700', 'https://finance.naver.com//item/main.nhn?code=252000', 'https://finance.naver.com//item/main.nhn?code=226380', 'https://finance.naver.com//item/main.nhn?code=269370', 'https://finance.naver.com//item/main.nhn?code=256450', 'https://finance.naver.com//item/main.nhn?code=289250', 'https://finance.naver.com//item/main.nhn?code=001755', 'https://finance.naver.com//item/main.nhn?code=195970', 'https://finance.naver.com//item/main.nhn?code=299070', 'https://finance.naver.com//item/main.nhn?code=098560', 'https://finance.naver.com//item/main.nhn?code=289260', 'https://finance.naver.com//item/main.nhn?code=292100', 'https://finance.naver.com//item/main.nhn?code=306530', 'https://finance.naver.com//item/main.nhn?code=228800', 'https://finance.naver.com//item/main.nhn?code=002787', 'https://finance.naver.com//item/main.nhn?code=001067', 'https://finance.naver.com//item/main.nhn?code=292120', 'https://finance.naver.com//item/main.nhn?code=550042', 'https://finance.naver.com//item/main.nhn?code=000545', 'https://finance.naver.com//item/main.nhn?code=291610', 'https://finance.naver.com//item/main.nhn?code=157500', 'https://finance.naver.com//item/main.nhn?code=309170', 'https://finance.naver.com//item/main.nhn?code=304670', 'https://finance.naver.com//item/main.nhn?code=300300', 'https://finance.naver.com//item/main.nhn?code=001527', 'https://finance.naver.com//item/main.nhn?code=000547', 'https://finance.naver.com//item/main.nhn?code=226980', 'https://finance.naver.com//item/main.nhn?code=227560', 'https://finance.naver.com//item/main.nhn?code=099350', 'https://finance.naver.com//item/main.nhn?code=244670', 'https://finance.naver.com//item/main.nhn?code=291890', 'https://finance.naver.com//item/main.nhn?code=00781K', 'https://finance.naver.com//item/main.nhn?code=280940', 'https://finance.naver.com//item/main.nhn?code=267450', 'https://finance.naver.com//item/main.nhn?code=266140', 'https://finance.naver.com//item/main.nhn?code=001525', 'https://finance.naver.com//item/main.nhn?code=300310', 'https://finance.naver.com//item/main.nhn?code=295020', 'https://finance.naver.com//item/main.nhn?code=009275', 'https://finance.naver.com//item/main.nhn?code=292130', 'https://finance.naver.com//item/main.nhn?code=104530', 'https://finance.naver.com//item/main.nhn?code=000227', 'https://finance.naver.com//item/main.nhn?code=000325', 'https://finance.naver.com//item/main.nhn?code=334700', 'https://finance.naver.com//item/main.nhn?code=300290', 'https://finance.naver.com//item/main.nhn?code=091220', 'https://finance.naver.com//item/main.nhn?code=309210', 'https://finance.naver.com//item/main.nhn?code=278420', 'https://finance.naver.com//item/main.nhn?code=315480', 'https://finance.naver.com//item/main.nhn?code=140570', 'https://finance.naver.com//item/main.nhn?code=326240', 'https://finance.naver.com//item/main.nhn?code=253990', 'https://finance.naver.com//item/main.nhn?code=267500', 'https://finance.naver.com//item/main.nhn?code=300280', 'https://finance.naver.com//item/main.nhn?code=211210', 'https://finance.naver.com//item/main.nhn?code=285010', 'https://finance.naver.com//item/main.nhn?code=275540', 'https://finance.naver.com//item/main.nhn?code=139310', 'https://finance.naver.com//item/main.nhn?code=001529', 'https://finance.naver.com//item/main.nhn?code=261920', 'https://finance.naver.com//item/main.nhn?code=140580', 'https://finance.naver.com//item/main.nhn?code=284990', 'https://finance.naver.com//item/main.nhn?code=326230', 'https://finance.naver.com//item/main.nhn?code=292140', 'https://finance.naver.com//item/main.nhn?code=138530', 'https://finance.naver.com//item/main.nhn?code=285020', 'https://finance.naver.com//item/main.nhn?code=217770', 'https://finance.naver.com//item/main.nhn?code=292110', 'https://finance.naver.com//item/main.nhn?code=287300', 'https://finance.naver.com//item/main.nhn?code=295820', 'https://finance.naver.com//item/main.nhn?code=314700', 'https://finance.naver.com//item/main.nhn?code=284980', 'https://finance.naver.com//item/main.nhn?code=097750', 'https://finance.naver.com//item/main.nhn?code=139240', 'https://finance.naver.com//item/main.nhn?code=287310', 'https://finance.naver.com//item/main.nhn?code=287320', 'https://finance.naver.com//item/main.nhn?code=267300', 'https://finance.naver.com//item/main.nhn?code=227550']\n"
     ]
    },
    {
     "name": "stderr",
     "output_type": "stream",
     "text": [
      "\r",
      "  0%|                                                                                         | 0/1557 [00:00<?, ?it/s]"
     ]
    },
    {
     "name": "stdout",
     "output_type": "stream",
     "text": [
      "삼성전자\n",
      "https://finance.naver.com//item/sise.nhn?code=005930\n"
     ]
    },
    {
     "name": "stderr",
     "output_type": "stream",
     "text": [
      "\r",
      "  0%|                                                                               | 1/1557 [00:03<1:19:56,  3.08s/it]"
     ]
    },
    {
     "name": "stdout",
     "output_type": "stream",
     "text": [
      "SK하이닉스\n",
      "https://finance.naver.com//item/sise.nhn?code=000660\n"
     ]
    },
    {
     "name": "stderr",
     "output_type": "stream",
     "text": [
      "\r",
      "  0%|                                                                               | 2/1557 [00:04<1:03:42,  2.46s/it]"
     ]
    },
    {
     "name": "stdout",
     "output_type": "stream",
     "text": [
      "삼성바이오로직스\n",
      "https://finance.naver.com//item/sise.nhn?code=207940\n"
     ]
    },
    {
     "name": "stderr",
     "output_type": "stream",
     "text": [
      "\r",
      "  0%|▏                                                                                | 3/1557 [00:05<52:36,  2.03s/it]"
     ]
    },
    {
     "name": "stdout",
     "output_type": "stream",
     "text": [
      "NAVER\n",
      "https://finance.naver.com//item/sise.nhn?code=035420\n"
     ]
    },
    {
     "name": "stderr",
     "output_type": "stream",
     "text": [
      "\r",
      "  0%|▏                                                                                | 4/1557 [00:06<45:30,  1.76s/it]"
     ]
    },
    {
     "name": "stdout",
     "output_type": "stream",
     "text": [
      "셀트리온\n",
      "https://finance.naver.com//item/sise.nhn?code=068270\n"
     ]
    },
    {
     "name": "stderr",
     "output_type": "stream",
     "text": [
      "\r",
      "  0%|▎                                                                                | 5/1557 [00:07<41:10,  1.59s/it]"
     ]
    },
    {
     "name": "stdout",
     "output_type": "stream",
     "text": [
      "삼성전자우\n",
      "https://finance.naver.com//item/sise.nhn?code=005935\n"
     ]
    },
    {
     "name": "stderr",
     "output_type": "stream",
     "text": [
      "\r",
      "  0%|▎                                                                                | 6/1557 [00:08<36:34,  1.42s/it]"
     ]
    },
    {
     "name": "stdout",
     "output_type": "stream",
     "text": [
      "LG화학\n",
      "https://finance.naver.com//item/sise.nhn?code=051910\n"
     ]
    },
    {
     "name": "stderr",
     "output_type": "stream",
     "text": [
      "\r",
      "  0%|▎                                                                                | 7/1557 [00:09<33:44,  1.31s/it]"
     ]
    },
    {
     "name": "stdout",
     "output_type": "stream",
     "text": [
      "삼성SDI\n",
      "https://finance.naver.com//item/sise.nhn?code=006400\n"
     ]
    },
    {
     "name": "stderr",
     "output_type": "stream",
     "text": [
      "\r",
      "  1%|▍                                                                                | 8/1557 [00:10<31:44,  1.23s/it]"
     ]
    },
    {
     "name": "stdout",
     "output_type": "stream",
     "text": [
      "카카오\n",
      "https://finance.naver.com//item/sise.nhn?code=035720\n"
     ]
    },
    {
     "name": "stderr",
     "output_type": "stream",
     "text": [
      "\r",
      "  1%|▍                                                                                | 9/1557 [00:11<32:10,  1.25s/it]"
     ]
    },
    {
     "name": "stdout",
     "output_type": "stream",
     "text": [
      "SK\n",
      "https://finance.naver.com//item/sise.nhn?code=034730\n"
     ]
    },
    {
     "name": "stderr",
     "output_type": "stream",
     "text": [
      "\r",
      "  1%|▌                                                                               | 10/1557 [00:12<31:09,  1.21s/it]"
     ]
    },
    {
     "name": "stdout",
     "output_type": "stream",
     "text": [
      "삼성물산\n",
      "https://finance.naver.com//item/sise.nhn?code=028260\n"
     ]
    },
    {
     "name": "stderr",
     "output_type": "stream",
     "text": [
      "\r",
      "  1%|▌                                                                               | 11/1557 [00:14<29:55,  1.16s/it]"
     ]
    },
    {
     "name": "stdout",
     "output_type": "stream",
     "text": [
      "현대차\n",
      "https://finance.naver.com//item/sise.nhn?code=005380\n"
     ]
    },
    {
     "name": "stderr",
     "output_type": "stream",
     "text": [
      "\r",
      "  1%|▌                                                                               | 12/1557 [00:15<29:11,  1.13s/it]"
     ]
    },
    {
     "name": "stdout",
     "output_type": "stream",
     "text": [
      "LG생활건강\n",
      "https://finance.naver.com//item/sise.nhn?code=051900\n"
     ]
    },
    {
     "name": "stderr",
     "output_type": "stream",
     "text": [
      "\r",
      "  1%|▋                                                                               | 13/1557 [00:16<28:51,  1.12s/it]"
     ]
    },
    {
     "name": "stdout",
     "output_type": "stream",
     "text": [
      "엔씨소프트\n",
      "https://finance.naver.com//item/sise.nhn?code=036570\n"
     ]
    },
    {
     "name": "stderr",
     "output_type": "stream",
     "text": [
      "\r",
      "  1%|▋                                                                               | 14/1557 [00:17<28:33,  1.11s/it]"
     ]
    },
    {
     "name": "stdout",
     "output_type": "stream",
     "text": [
      "현대모비스\n",
      "https://finance.naver.com//item/sise.nhn?code=012330\n"
     ]
    },
    {
     "name": "stderr",
     "output_type": "stream",
     "text": [
      "\r",
      "  1%|▊                                                                               | 15/1557 [00:18<28:50,  1.12s/it]"
     ]
    },
    {
     "name": "stdout",
     "output_type": "stream",
     "text": [
      "SK텔레콤\n",
      "https://finance.naver.com//item/sise.nhn?code=017670\n"
     ]
    },
    {
     "name": "stderr",
     "output_type": "stream",
     "text": [
      "\r",
      "  1%|▊                                                                               | 16/1557 [00:19<29:38,  1.15s/it]"
     ]
    },
    {
     "name": "stdout",
     "output_type": "stream",
     "text": [
      "POSCO\n",
      "https://finance.naver.com//item/sise.nhn?code=005490\n"
     ]
    },
    {
     "name": "stderr",
     "output_type": "stream",
     "text": [
      "\r",
      "  1%|▊                                                                               | 17/1557 [00:20<29:43,  1.16s/it]"
     ]
    },
    {
     "name": "stdout",
     "output_type": "stream",
     "text": [
      "신한지주\n",
      "https://finance.naver.com//item/sise.nhn?code=055550\n"
     ]
    },
    {
     "name": "stderr",
     "output_type": "stream",
     "text": [
      "\r",
      "  1%|▉                                                                               | 18/1557 [00:21<29:06,  1.14s/it]"
     ]
    },
    {
     "name": "stdout",
     "output_type": "stream",
     "text": [
      "KB금융\n",
      "https://finance.naver.com//item/sise.nhn?code=105560\n"
     ]
    },
    {
     "name": "stderr",
     "output_type": "stream",
     "text": [
      "\r",
      "  1%|▉                                                                               | 19/1557 [00:22<28:20,  1.11s/it]"
     ]
    },
    {
     "name": "stdout",
     "output_type": "stream",
     "text": [
      "삼성에스디에스\n",
      "https://finance.naver.com//item/sise.nhn?code=018260\n"
     ]
    },
    {
     "name": "stderr",
     "output_type": "stream",
     "text": [
      "\r",
      "  1%|█                                                                               | 20/1557 [00:24<28:16,  1.10s/it]"
     ]
    },
    {
     "name": "stdout",
     "output_type": "stream",
     "text": [
      "기아차\n",
      "https://finance.naver.com//item/sise.nhn?code=000270\n"
     ]
    },
    {
     "name": "stderr",
     "output_type": "stream",
     "text": [
      "\r",
      "  1%|█                                                                               | 21/1557 [00:25<27:28,  1.07s/it]"
     ]
    },
    {
     "name": "stdout",
     "output_type": "stream",
     "text": [
      "한국전력\n",
      "https://finance.naver.com//item/sise.nhn?code=015760\n"
     ]
    },
    {
     "name": "stderr",
     "output_type": "stream",
     "text": [
      "\r",
      "  1%|█▏                                                                              | 22/1557 [00:26<27:31,  1.08s/it]"
     ]
    },
    {
     "name": "stdout",
     "output_type": "stream",
     "text": [
      "LG\n",
      "https://finance.naver.com//item/sise.nhn?code=003550\n"
     ]
    },
    {
     "name": "stderr",
     "output_type": "stream",
     "text": [
      "\r",
      "  1%|█▏                                                                              | 23/1557 [00:27<27:35,  1.08s/it]"
     ]
    },
    {
     "name": "stdout",
     "output_type": "stream",
     "text": [
      "KT&G\n",
      "https://finance.naver.com//item/sise.nhn?code=033780\n"
     ]
    },
    {
     "name": "stderr",
     "output_type": "stream",
     "text": [
      "\r",
      "  2%|█▏                                                                              | 24/1557 [00:28<27:29,  1.08s/it]"
     ]
    },
    {
     "name": "stdout",
     "output_type": "stream",
     "text": [
      "LG전자\n",
      "https://finance.naver.com//item/sise.nhn?code=066570\n"
     ]
    },
    {
     "name": "stderr",
     "output_type": "stream",
     "text": [
      "\r",
      "  2%|█▎                                                                              | 25/1557 [00:29<27:29,  1.08s/it]"
     ]
    },
    {
     "name": "stdout",
     "output_type": "stream",
     "text": [
      "SK이노베이션\n",
      "https://finance.naver.com//item/sise.nhn?code=096770\n"
     ]
    },
    {
     "name": "stderr",
     "output_type": "stream",
     "text": [
      "\r",
      "  2%|█▎                                                                              | 26/1557 [00:30<28:00,  1.10s/it]"
     ]
    },
    {
     "name": "stdout",
     "output_type": "stream",
     "text": [
      "아모레퍼시픽\n",
      "https://finance.naver.com//item/sise.nhn?code=090430\n"
     ]
    },
    {
     "name": "stderr",
     "output_type": "stream",
     "text": [
      "\r",
      "  2%|█▍                                                                              | 27/1557 [00:31<28:02,  1.10s/it]"
     ]
    },
    {
     "name": "stdout",
     "output_type": "stream",
     "text": [
      "삼성전기\n",
      "https://finance.naver.com//item/sise.nhn?code=009150\n"
     ]
    },
    {
     "name": "stderr",
     "output_type": "stream",
     "text": [
      "\r",
      "  2%|█▍                                                                              | 28/1557 [00:32<28:06,  1.10s/it]"
     ]
    },
    {
     "name": "stdout",
     "output_type": "stream",
     "text": [
      "삼성생명\n",
      "https://finance.naver.com//item/sise.nhn?code=032830\n"
     ]
    },
    {
     "name": "stderr",
     "output_type": "stream",
     "text": [
      "\r",
      "  2%|█▍                                                                              | 29/1557 [00:33<28:14,  1.11s/it]"
     ]
    },
    {
     "name": "stdout",
     "output_type": "stream",
     "text": [
      "삼성화재\n",
      "https://finance.naver.com//item/sise.nhn?code=000810\n"
     ]
    },
    {
     "name": "stderr",
     "output_type": "stream",
     "text": [
      "\r",
      "  2%|█▌                                                                              | 30/1557 [00:34<28:19,  1.11s/it]"
     ]
    },
    {
     "name": "stdout",
     "output_type": "stream",
     "text": [
      "하나금융지주\n",
      "https://finance.naver.com//item/sise.nhn?code=086790\n"
     ]
    },
    {
     "name": "stderr",
     "output_type": "stream",
     "text": [
      "\r",
      "  2%|█▌                                                                              | 31/1557 [00:36<28:11,  1.11s/it]"
     ]
    },
    {
     "name": "stdout",
     "output_type": "stream",
     "text": [
      "넷마블\n",
      "https://finance.naver.com//item/sise.nhn?code=251270\n"
     ]
    },
    {
     "name": "stderr",
     "output_type": "stream",
     "text": [
      "\r",
      "  2%|█▋                                                                              | 32/1557 [00:37<28:32,  1.12s/it]"
     ]
    },
    {
     "name": "stdout",
     "output_type": "stream",
     "text": [
      "S-Oil\n",
      "https://finance.naver.com//item/sise.nhn?code=010950\n"
     ]
    },
    {
     "name": "stderr",
     "output_type": "stream",
     "text": [
      "\r",
      "  2%|█▋                                                                              | 33/1557 [00:38<28:22,  1.12s/it]"
     ]
    },
    {
     "name": "stdout",
     "output_type": "stream",
     "text": [
      "고려아연\n",
      "https://finance.naver.com//item/sise.nhn?code=010130\n"
     ]
    },
    {
     "name": "stderr",
     "output_type": "stream",
     "text": [
      "\r",
      "  2%|█▋                                                                              | 34/1557 [00:39<28:47,  1.13s/it]"
     ]
    },
    {
     "name": "stdout",
     "output_type": "stream",
     "text": [
      "우리금융지주\n",
      "https://finance.naver.com//item/sise.nhn?code=316140\n"
     ]
    },
    {
     "name": "stderr",
     "output_type": "stream",
     "text": [
      "\r",
      "  2%|█▊                                                                              | 35/1557 [00:40<28:29,  1.12s/it]"
     ]
    },
    {
     "name": "stdout",
     "output_type": "stream",
     "text": [
      "한국조선해양\n",
      "https://finance.naver.com//item/sise.nhn?code=009540\n"
     ]
    },
    {
     "name": "stderr",
     "output_type": "stream",
     "text": [
      "\r",
      "  2%|█▊                                                                              | 36/1557 [00:41<28:47,  1.14s/it]"
     ]
    },
    {
     "name": "stdout",
     "output_type": "stream",
     "text": [
      "KT\n",
      "https://finance.naver.com//item/sise.nhn?code=030200\n"
     ]
    },
    {
     "name": "stderr",
     "output_type": "stream",
     "text": [
      "\r",
      "  2%|█▉                                                                              | 37/1557 [00:42<28:39,  1.13s/it]"
     ]
    },
    {
     "name": "stdout",
     "output_type": "stream",
     "text": [
      "롯데케미칼\n",
      "https://finance.naver.com//item/sise.nhn?code=011170\n"
     ]
    },
    {
     "name": "stderr",
     "output_type": "stream",
     "text": [
      "\r",
      "  2%|█▉                                                                              | 38/1557 [00:43<28:04,  1.11s/it]"
     ]
    },
    {
     "name": "stdout",
     "output_type": "stream",
     "text": [
      "기업은행\n",
      "https://finance.naver.com//item/sise.nhn?code=024110\n"
     ]
    },
    {
     "name": "stderr",
     "output_type": "stream",
     "text": [
      "\r",
      "  3%|██                                                                              | 39/1557 [00:45<28:28,  1.13s/it]"
     ]
    },
    {
     "name": "stdout",
     "output_type": "stream",
     "text": [
      "LG유플러스\n",
      "https://finance.naver.com//item/sise.nhn?code=032640\n"
     ]
    },
    {
     "name": "stderr",
     "output_type": "stream",
     "text": [
      "\r",
      "  3%|██                                                                              | 40/1557 [00:46<28:21,  1.12s/it]"
     ]
    },
    {
     "name": "stdout",
     "output_type": "stream",
     "text": [
      "코웨이\n",
      "https://finance.naver.com//item/sise.nhn?code=021240\n"
     ]
    },
    {
     "name": "stderr",
     "output_type": "stream",
     "text": [
      "\r",
      "  3%|██                                                                              | 41/1557 [00:47<28:40,  1.14s/it]"
     ]
    },
    {
     "name": "stdout",
     "output_type": "stream",
     "text": [
      "한진칼\n",
      "https://finance.naver.com//item/sise.nhn?code=180640\n"
     ]
    },
    {
     "name": "stderr",
     "output_type": "stream",
     "text": [
      "\r",
      "  3%|██▏                                                                             | 42/1557 [00:48<27:50,  1.10s/it]"
     ]
    },
    {
     "name": "stdout",
     "output_type": "stream",
     "text": [
      "오리온\n",
      "https://finance.naver.com//item/sise.nhn?code=271560\n"
     ]
    },
    {
     "name": "stderr",
     "output_type": "stream",
     "text": [
      "\r",
      "  3%|██▏                                                                             | 43/1557 [00:49<27:31,  1.09s/it]"
     ]
    },
    {
     "name": "stdout",
     "output_type": "stream",
     "text": [
      "한온시스템\n",
      "https://finance.naver.com//item/sise.nhn?code=018880\n"
     ]
    },
    {
     "name": "stderr",
     "output_type": "stream",
     "text": [
      "\r",
      "  3%|██▎                                                                             | 44/1557 [00:50<27:36,  1.10s/it]"
     ]
    },
    {
     "name": "stdout",
     "output_type": "stream",
     "text": [
      "강원랜드\n",
      "https://finance.naver.com//item/sise.nhn?code=035250\n"
     ]
    },
    {
     "name": "stderr",
     "output_type": "stream",
     "text": [
      "\r",
      "  3%|██▎                                                                             | 45/1557 [00:51<28:09,  1.12s/it]"
     ]
    },
    {
     "name": "stdout",
     "output_type": "stream",
     "text": [
      "CJ제일제당\n",
      "https://finance.naver.com//item/sise.nhn?code=097950\n"
     ]
    },
    {
     "name": "stderr",
     "output_type": "stream",
     "text": [
      "\r",
      "  3%|██▎                                                                             | 46/1557 [00:52<28:19,  1.12s/it]"
     ]
    },
    {
     "name": "stdout",
     "output_type": "stream",
     "text": [
      "KODEX 200\n"
     ]
    },
    {
     "ename": "KeyboardInterrupt",
     "evalue": "",
     "output_type": "error",
     "traceback": [
      "\u001b[1;31m---------------------------------------------------------------------------\u001b[0m",
      "\u001b[1;31mKeyboardInterrupt\u001b[0m                         Traceback (most recent call last)",
      "\u001b[1;32m<ipython-input-23-1c0174dca761>\u001b[0m in \u001b[0;36m<module>\u001b[1;34m\u001b[0m\n\u001b[0;32m      1\u001b[0m \u001b[0mtmp\u001b[0m\u001b[1;33m=\u001b[0m\u001b[0mstock_crawling\u001b[0m\u001b[1;33m(\u001b[0m\u001b[1;33m)\u001b[0m\u001b[1;33m\u001b[0m\u001b[1;33m\u001b[0m\u001b[0m\n\u001b[1;32m----> 2\u001b[1;33m \u001b[0mtmp\u001b[0m\u001b[1;33m.\u001b[0m\u001b[0mrun\u001b[0m\u001b[1;33m(\u001b[0m\u001b[1;36m1\u001b[0m\u001b[1;33m)\u001b[0m\u001b[1;33m\u001b[0m\u001b[1;33m\u001b[0m\u001b[0m\n\u001b[0m",
      "\u001b[1;32m<ipython-input-22-07d4e642e769>\u001b[0m in \u001b[0;36mrun\u001b[1;34m(self, pages)\u001b[0m\n\u001b[0;32m    112\u001b[0m         \u001b[0mself\u001b[0m\u001b[1;33m.\u001b[0m\u001b[0mc_url\u001b[0m \u001b[1;33m=\u001b[0m \u001b[0mplay\u001b[0m\u001b[1;33m.\u001b[0m\u001b[0mcompany\u001b[0m\u001b[1;33m(\u001b[0m\u001b[0mself\u001b[0m\u001b[1;33m.\u001b[0m\u001b[0murl\u001b[0m\u001b[1;33m,\u001b[0m\u001b[0mp_num\u001b[0m\u001b[1;33m)\u001b[0m \u001b[1;31m#3. 회사별 주식 페이지 url 수집\u001b[0m\u001b[1;33m\u001b[0m\u001b[1;33m\u001b[0m\u001b[0m\n\u001b[0;32m    113\u001b[0m \u001b[1;33m\u001b[0m\u001b[0m\n\u001b[1;32m--> 114\u001b[1;33m         \u001b[0mstock_price\u001b[0m \u001b[1;33m=\u001b[0m \u001b[0mplay\u001b[0m\u001b[1;33m.\u001b[0m\u001b[0mstock\u001b[0m\u001b[1;33m(\u001b[0m\u001b[0mself\u001b[0m\u001b[1;33m.\u001b[0m\u001b[0mpages\u001b[0m\u001b[1;33m,\u001b[0m \u001b[0mself\u001b[0m\u001b[1;33m.\u001b[0m\u001b[0mc_url\u001b[0m\u001b[1;33m)\u001b[0m \u001b[1;31m#4. 회사별 주식 수집, pages: 시세 테이블 페이지 수\u001b[0m\u001b[1;33m\u001b[0m\u001b[1;33m\u001b[0m\u001b[0m\n\u001b[0m\u001b[0;32m    115\u001b[0m \u001b[1;33m\u001b[0m\u001b[0m\n\u001b[0;32m    116\u001b[0m         \u001b[1;32mreturn\u001b[0m \u001b[0mstock_price\u001b[0m\u001b[1;33m\u001b[0m\u001b[1;33m\u001b[0m\u001b[0m\n",
      "\u001b[1;32m<ipython-input-22-07d4e642e769>\u001b[0m in \u001b[0;36mstock\u001b[1;34m(self, t_num, c_url)\u001b[0m\n\u001b[0;32m     78\u001b[0m             \u001b[0mprice_url\u001b[0m \u001b[1;33m=\u001b[0m \u001b[0msoup\u001b[0m\u001b[1;33m.\u001b[0m\u001b[0mselect\u001b[0m\u001b[1;33m(\u001b[0m\u001b[1;34m'#content > ul > li > a.tab2'\u001b[0m\u001b[1;33m)\u001b[0m\u001b[1;33m[\u001b[0m\u001b[1;36m0\u001b[0m\u001b[1;33m]\u001b[0m\u001b[1;33m[\u001b[0m\u001b[1;34m'href'\u001b[0m\u001b[1;33m]\u001b[0m\u001b[1;33m\u001b[0m\u001b[1;33m\u001b[0m\u001b[0m\n\u001b[0;32m     79\u001b[0m             \u001b[0mprice_url\u001b[0m \u001b[1;33m=\u001b[0m \u001b[1;34m\"https://finance.naver.com/\"\u001b[0m\u001b[1;33m+\u001b[0m\u001b[0mprice_url\u001b[0m\u001b[1;33m\u001b[0m\u001b[1;33m\u001b[0m\u001b[0m\n\u001b[1;32m---> 80\u001b[1;33m             \u001b[0mdriver\u001b[0m\u001b[1;33m.\u001b[0m\u001b[0mget\u001b[0m\u001b[1;33m(\u001b[0m\u001b[0mprice_url\u001b[0m\u001b[1;33m)\u001b[0m \u001b[1;31m# 시세 페이지 진입\u001b[0m\u001b[1;33m\u001b[0m\u001b[1;33m\u001b[0m\u001b[0m\n\u001b[0m\u001b[0;32m     81\u001b[0m             \u001b[0mprint\u001b[0m\u001b[1;33m(\u001b[0m\u001b[0mprice_url\u001b[0m\u001b[1;33m)\u001b[0m\u001b[1;33m\u001b[0m\u001b[1;33m\u001b[0m\u001b[0m\n\u001b[0;32m     82\u001b[0m \u001b[1;33m\u001b[0m\u001b[0m\n",
      "\u001b[1;32m~\\anaconda3\\lib\\site-packages\\selenium\\webdriver\\remote\\webdriver.py\u001b[0m in \u001b[0;36mget\u001b[1;34m(self, url)\u001b[0m\n\u001b[0;32m    331\u001b[0m         \u001b[0mLoads\u001b[0m \u001b[0ma\u001b[0m \u001b[0mweb\u001b[0m \u001b[0mpage\u001b[0m \u001b[1;32min\u001b[0m \u001b[0mthe\u001b[0m \u001b[0mcurrent\u001b[0m \u001b[0mbrowser\u001b[0m \u001b[0msession\u001b[0m\u001b[1;33m.\u001b[0m\u001b[1;33m\u001b[0m\u001b[1;33m\u001b[0m\u001b[0m\n\u001b[0;32m    332\u001b[0m         \"\"\"\n\u001b[1;32m--> 333\u001b[1;33m         \u001b[0mself\u001b[0m\u001b[1;33m.\u001b[0m\u001b[0mexecute\u001b[0m\u001b[1;33m(\u001b[0m\u001b[0mCommand\u001b[0m\u001b[1;33m.\u001b[0m\u001b[0mGET\u001b[0m\u001b[1;33m,\u001b[0m \u001b[1;33m{\u001b[0m\u001b[1;34m'url'\u001b[0m\u001b[1;33m:\u001b[0m \u001b[0murl\u001b[0m\u001b[1;33m}\u001b[0m\u001b[1;33m)\u001b[0m\u001b[1;33m\u001b[0m\u001b[1;33m\u001b[0m\u001b[0m\n\u001b[0m\u001b[0;32m    334\u001b[0m \u001b[1;33m\u001b[0m\u001b[0m\n\u001b[0;32m    335\u001b[0m     \u001b[1;33m@\u001b[0m\u001b[0mproperty\u001b[0m\u001b[1;33m\u001b[0m\u001b[1;33m\u001b[0m\u001b[0m\n",
      "\u001b[1;32m~\\anaconda3\\lib\\site-packages\\selenium\\webdriver\\remote\\webdriver.py\u001b[0m in \u001b[0;36mexecute\u001b[1;34m(self, driver_command, params)\u001b[0m\n\u001b[0;32m    317\u001b[0m \u001b[1;33m\u001b[0m\u001b[0m\n\u001b[0;32m    318\u001b[0m         \u001b[0mparams\u001b[0m \u001b[1;33m=\u001b[0m \u001b[0mself\u001b[0m\u001b[1;33m.\u001b[0m\u001b[0m_wrap_value\u001b[0m\u001b[1;33m(\u001b[0m\u001b[0mparams\u001b[0m\u001b[1;33m)\u001b[0m\u001b[1;33m\u001b[0m\u001b[1;33m\u001b[0m\u001b[0m\n\u001b[1;32m--> 319\u001b[1;33m         \u001b[0mresponse\u001b[0m \u001b[1;33m=\u001b[0m \u001b[0mself\u001b[0m\u001b[1;33m.\u001b[0m\u001b[0mcommand_executor\u001b[0m\u001b[1;33m.\u001b[0m\u001b[0mexecute\u001b[0m\u001b[1;33m(\u001b[0m\u001b[0mdriver_command\u001b[0m\u001b[1;33m,\u001b[0m \u001b[0mparams\u001b[0m\u001b[1;33m)\u001b[0m\u001b[1;33m\u001b[0m\u001b[1;33m\u001b[0m\u001b[0m\n\u001b[0m\u001b[0;32m    320\u001b[0m         \u001b[1;32mif\u001b[0m \u001b[0mresponse\u001b[0m\u001b[1;33m:\u001b[0m\u001b[1;33m\u001b[0m\u001b[1;33m\u001b[0m\u001b[0m\n\u001b[0;32m    321\u001b[0m             \u001b[0mself\u001b[0m\u001b[1;33m.\u001b[0m\u001b[0merror_handler\u001b[0m\u001b[1;33m.\u001b[0m\u001b[0mcheck_response\u001b[0m\u001b[1;33m(\u001b[0m\u001b[0mresponse\u001b[0m\u001b[1;33m)\u001b[0m\u001b[1;33m\u001b[0m\u001b[1;33m\u001b[0m\u001b[0m\n",
      "\u001b[1;32m~\\anaconda3\\lib\\site-packages\\selenium\\webdriver\\remote\\remote_connection.py\u001b[0m in \u001b[0;36mexecute\u001b[1;34m(self, command, params)\u001b[0m\n\u001b[0;32m    372\u001b[0m         \u001b[0mdata\u001b[0m \u001b[1;33m=\u001b[0m \u001b[0mutils\u001b[0m\u001b[1;33m.\u001b[0m\u001b[0mdump_json\u001b[0m\u001b[1;33m(\u001b[0m\u001b[0mparams\u001b[0m\u001b[1;33m)\u001b[0m\u001b[1;33m\u001b[0m\u001b[1;33m\u001b[0m\u001b[0m\n\u001b[0;32m    373\u001b[0m         \u001b[0murl\u001b[0m \u001b[1;33m=\u001b[0m \u001b[1;34m'%s%s'\u001b[0m \u001b[1;33m%\u001b[0m \u001b[1;33m(\u001b[0m\u001b[0mself\u001b[0m\u001b[1;33m.\u001b[0m\u001b[0m_url\u001b[0m\u001b[1;33m,\u001b[0m \u001b[0mpath\u001b[0m\u001b[1;33m)\u001b[0m\u001b[1;33m\u001b[0m\u001b[1;33m\u001b[0m\u001b[0m\n\u001b[1;32m--> 374\u001b[1;33m         \u001b[1;32mreturn\u001b[0m \u001b[0mself\u001b[0m\u001b[1;33m.\u001b[0m\u001b[0m_request\u001b[0m\u001b[1;33m(\u001b[0m\u001b[0mcommand_info\u001b[0m\u001b[1;33m[\u001b[0m\u001b[1;36m0\u001b[0m\u001b[1;33m]\u001b[0m\u001b[1;33m,\u001b[0m \u001b[0murl\u001b[0m\u001b[1;33m,\u001b[0m \u001b[0mbody\u001b[0m\u001b[1;33m=\u001b[0m\u001b[0mdata\u001b[0m\u001b[1;33m)\u001b[0m\u001b[1;33m\u001b[0m\u001b[1;33m\u001b[0m\u001b[0m\n\u001b[0m\u001b[0;32m    375\u001b[0m \u001b[1;33m\u001b[0m\u001b[0m\n\u001b[0;32m    376\u001b[0m     \u001b[1;32mdef\u001b[0m \u001b[0m_request\u001b[0m\u001b[1;33m(\u001b[0m\u001b[0mself\u001b[0m\u001b[1;33m,\u001b[0m \u001b[0mmethod\u001b[0m\u001b[1;33m,\u001b[0m \u001b[0murl\u001b[0m\u001b[1;33m,\u001b[0m \u001b[0mbody\u001b[0m\u001b[1;33m=\u001b[0m\u001b[1;32mNone\u001b[0m\u001b[1;33m)\u001b[0m\u001b[1;33m:\u001b[0m\u001b[1;33m\u001b[0m\u001b[1;33m\u001b[0m\u001b[0m\n",
      "\u001b[1;32m~\\anaconda3\\lib\\site-packages\\selenium\\webdriver\\remote\\remote_connection.py\u001b[0m in \u001b[0;36m_request\u001b[1;34m(self, method, url, body)\u001b[0m\n\u001b[0;32m    395\u001b[0m \u001b[1;33m\u001b[0m\u001b[0m\n\u001b[0;32m    396\u001b[0m         \u001b[1;32mif\u001b[0m \u001b[0mself\u001b[0m\u001b[1;33m.\u001b[0m\u001b[0mkeep_alive\u001b[0m\u001b[1;33m:\u001b[0m\u001b[1;33m\u001b[0m\u001b[1;33m\u001b[0m\u001b[0m\n\u001b[1;32m--> 397\u001b[1;33m             \u001b[0mresp\u001b[0m \u001b[1;33m=\u001b[0m \u001b[0mself\u001b[0m\u001b[1;33m.\u001b[0m\u001b[0m_conn\u001b[0m\u001b[1;33m.\u001b[0m\u001b[0mrequest\u001b[0m\u001b[1;33m(\u001b[0m\u001b[0mmethod\u001b[0m\u001b[1;33m,\u001b[0m \u001b[0murl\u001b[0m\u001b[1;33m,\u001b[0m \u001b[0mbody\u001b[0m\u001b[1;33m=\u001b[0m\u001b[0mbody\u001b[0m\u001b[1;33m,\u001b[0m \u001b[0mheaders\u001b[0m\u001b[1;33m=\u001b[0m\u001b[0mheaders\u001b[0m\u001b[1;33m)\u001b[0m\u001b[1;33m\u001b[0m\u001b[1;33m\u001b[0m\u001b[0m\n\u001b[0m\u001b[0;32m    398\u001b[0m \u001b[1;33m\u001b[0m\u001b[0m\n\u001b[0;32m    399\u001b[0m             \u001b[0mstatuscode\u001b[0m \u001b[1;33m=\u001b[0m \u001b[0mresp\u001b[0m\u001b[1;33m.\u001b[0m\u001b[0mstatus\u001b[0m\u001b[1;33m\u001b[0m\u001b[1;33m\u001b[0m\u001b[0m\n",
      "\u001b[1;32m~\\anaconda3\\lib\\site-packages\\urllib3\\request.py\u001b[0m in \u001b[0;36mrequest\u001b[1;34m(self, method, url, fields, headers, **urlopen_kw)\u001b[0m\n\u001b[0;32m     78\u001b[0m         \u001b[1;32melse\u001b[0m\u001b[1;33m:\u001b[0m\u001b[1;33m\u001b[0m\u001b[1;33m\u001b[0m\u001b[0m\n\u001b[0;32m     79\u001b[0m             return self.request_encode_body(\n\u001b[1;32m---> 80\u001b[1;33m                 \u001b[0mmethod\u001b[0m\u001b[1;33m,\u001b[0m \u001b[0murl\u001b[0m\u001b[1;33m,\u001b[0m \u001b[0mfields\u001b[0m\u001b[1;33m=\u001b[0m\u001b[0mfields\u001b[0m\u001b[1;33m,\u001b[0m \u001b[0mheaders\u001b[0m\u001b[1;33m=\u001b[0m\u001b[0mheaders\u001b[0m\u001b[1;33m,\u001b[0m \u001b[1;33m**\u001b[0m\u001b[0murlopen_kw\u001b[0m\u001b[1;33m\u001b[0m\u001b[1;33m\u001b[0m\u001b[0m\n\u001b[0m\u001b[0;32m     81\u001b[0m             )\n\u001b[0;32m     82\u001b[0m \u001b[1;33m\u001b[0m\u001b[0m\n",
      "\u001b[1;32m~\\anaconda3\\lib\\site-packages\\urllib3\\request.py\u001b[0m in \u001b[0;36mrequest_encode_body\u001b[1;34m(self, method, url, fields, headers, encode_multipart, multipart_boundary, **urlopen_kw)\u001b[0m\n\u001b[0;32m    169\u001b[0m         \u001b[0mextra_kw\u001b[0m\u001b[1;33m.\u001b[0m\u001b[0mupdate\u001b[0m\u001b[1;33m(\u001b[0m\u001b[0murlopen_kw\u001b[0m\u001b[1;33m)\u001b[0m\u001b[1;33m\u001b[0m\u001b[1;33m\u001b[0m\u001b[0m\n\u001b[0;32m    170\u001b[0m \u001b[1;33m\u001b[0m\u001b[0m\n\u001b[1;32m--> 171\u001b[1;33m         \u001b[1;32mreturn\u001b[0m \u001b[0mself\u001b[0m\u001b[1;33m.\u001b[0m\u001b[0murlopen\u001b[0m\u001b[1;33m(\u001b[0m\u001b[0mmethod\u001b[0m\u001b[1;33m,\u001b[0m \u001b[0murl\u001b[0m\u001b[1;33m,\u001b[0m \u001b[1;33m**\u001b[0m\u001b[0mextra_kw\u001b[0m\u001b[1;33m)\u001b[0m\u001b[1;33m\u001b[0m\u001b[1;33m\u001b[0m\u001b[0m\n\u001b[0m",
      "\u001b[1;32m~\\anaconda3\\lib\\site-packages\\urllib3\\poolmanager.py\u001b[0m in \u001b[0;36murlopen\u001b[1;34m(self, method, url, redirect, **kw)\u001b[0m\n\u001b[0;32m    328\u001b[0m             \u001b[0mresponse\u001b[0m \u001b[1;33m=\u001b[0m \u001b[0mconn\u001b[0m\u001b[1;33m.\u001b[0m\u001b[0murlopen\u001b[0m\u001b[1;33m(\u001b[0m\u001b[0mmethod\u001b[0m\u001b[1;33m,\u001b[0m \u001b[0murl\u001b[0m\u001b[1;33m,\u001b[0m \u001b[1;33m**\u001b[0m\u001b[0mkw\u001b[0m\u001b[1;33m)\u001b[0m\u001b[1;33m\u001b[0m\u001b[1;33m\u001b[0m\u001b[0m\n\u001b[0;32m    329\u001b[0m         \u001b[1;32melse\u001b[0m\u001b[1;33m:\u001b[0m\u001b[1;33m\u001b[0m\u001b[1;33m\u001b[0m\u001b[0m\n\u001b[1;32m--> 330\u001b[1;33m             \u001b[0mresponse\u001b[0m \u001b[1;33m=\u001b[0m \u001b[0mconn\u001b[0m\u001b[1;33m.\u001b[0m\u001b[0murlopen\u001b[0m\u001b[1;33m(\u001b[0m\u001b[0mmethod\u001b[0m\u001b[1;33m,\u001b[0m \u001b[0mu\u001b[0m\u001b[1;33m.\u001b[0m\u001b[0mrequest_uri\u001b[0m\u001b[1;33m,\u001b[0m \u001b[1;33m**\u001b[0m\u001b[0mkw\u001b[0m\u001b[1;33m)\u001b[0m\u001b[1;33m\u001b[0m\u001b[1;33m\u001b[0m\u001b[0m\n\u001b[0m\u001b[0;32m    331\u001b[0m \u001b[1;33m\u001b[0m\u001b[0m\n\u001b[0;32m    332\u001b[0m         \u001b[0mredirect_location\u001b[0m \u001b[1;33m=\u001b[0m \u001b[0mredirect\u001b[0m \u001b[1;32mand\u001b[0m \u001b[0mresponse\u001b[0m\u001b[1;33m.\u001b[0m\u001b[0mget_redirect_location\u001b[0m\u001b[1;33m(\u001b[0m\u001b[1;33m)\u001b[0m\u001b[1;33m\u001b[0m\u001b[1;33m\u001b[0m\u001b[0m\n",
      "\u001b[1;32m~\\anaconda3\\lib\\site-packages\\urllib3\\connectionpool.py\u001b[0m in \u001b[0;36murlopen\u001b[1;34m(self, method, url, body, headers, retries, redirect, assert_same_host, timeout, pool_timeout, release_conn, chunked, body_pos, **response_kw)\u001b[0m\n\u001b[0;32m    670\u001b[0m                 \u001b[0mbody\u001b[0m\u001b[1;33m=\u001b[0m\u001b[0mbody\u001b[0m\u001b[1;33m,\u001b[0m\u001b[1;33m\u001b[0m\u001b[1;33m\u001b[0m\u001b[0m\n\u001b[0;32m    671\u001b[0m                 \u001b[0mheaders\u001b[0m\u001b[1;33m=\u001b[0m\u001b[0mheaders\u001b[0m\u001b[1;33m,\u001b[0m\u001b[1;33m\u001b[0m\u001b[1;33m\u001b[0m\u001b[0m\n\u001b[1;32m--> 672\u001b[1;33m                 \u001b[0mchunked\u001b[0m\u001b[1;33m=\u001b[0m\u001b[0mchunked\u001b[0m\u001b[1;33m,\u001b[0m\u001b[1;33m\u001b[0m\u001b[1;33m\u001b[0m\u001b[0m\n\u001b[0m\u001b[0;32m    673\u001b[0m             )\n\u001b[0;32m    674\u001b[0m \u001b[1;33m\u001b[0m\u001b[0m\n",
      "\u001b[1;32m~\\anaconda3\\lib\\site-packages\\urllib3\\connectionpool.py\u001b[0m in \u001b[0;36m_make_request\u001b[1;34m(self, conn, method, url, timeout, chunked, **httplib_request_kw)\u001b[0m\n\u001b[0;32m    419\u001b[0m                     \u001b[1;31m# Python 3 (including for exceptions like SystemExit).\u001b[0m\u001b[1;33m\u001b[0m\u001b[1;33m\u001b[0m\u001b[1;33m\u001b[0m\u001b[0m\n\u001b[0;32m    420\u001b[0m                     \u001b[1;31m# Otherwise it looks like a bug in the code.\u001b[0m\u001b[1;33m\u001b[0m\u001b[1;33m\u001b[0m\u001b[1;33m\u001b[0m\u001b[0m\n\u001b[1;32m--> 421\u001b[1;33m                     \u001b[0msix\u001b[0m\u001b[1;33m.\u001b[0m\u001b[0mraise_from\u001b[0m\u001b[1;33m(\u001b[0m\u001b[0me\u001b[0m\u001b[1;33m,\u001b[0m \u001b[1;32mNone\u001b[0m\u001b[1;33m)\u001b[0m\u001b[1;33m\u001b[0m\u001b[1;33m\u001b[0m\u001b[0m\n\u001b[0m\u001b[0;32m    422\u001b[0m         \u001b[1;32mexcept\u001b[0m \u001b[1;33m(\u001b[0m\u001b[0mSocketTimeout\u001b[0m\u001b[1;33m,\u001b[0m \u001b[0mBaseSSLError\u001b[0m\u001b[1;33m,\u001b[0m \u001b[0mSocketError\u001b[0m\u001b[1;33m)\u001b[0m \u001b[1;32mas\u001b[0m \u001b[0me\u001b[0m\u001b[1;33m:\u001b[0m\u001b[1;33m\u001b[0m\u001b[1;33m\u001b[0m\u001b[0m\n\u001b[0;32m    423\u001b[0m             \u001b[0mself\u001b[0m\u001b[1;33m.\u001b[0m\u001b[0m_raise_timeout\u001b[0m\u001b[1;33m(\u001b[0m\u001b[0merr\u001b[0m\u001b[1;33m=\u001b[0m\u001b[0me\u001b[0m\u001b[1;33m,\u001b[0m \u001b[0murl\u001b[0m\u001b[1;33m=\u001b[0m\u001b[0murl\u001b[0m\u001b[1;33m,\u001b[0m \u001b[0mtimeout_value\u001b[0m\u001b[1;33m=\u001b[0m\u001b[0mread_timeout\u001b[0m\u001b[1;33m)\u001b[0m\u001b[1;33m\u001b[0m\u001b[1;33m\u001b[0m\u001b[0m\n",
      "\u001b[1;32m~\\anaconda3\\lib\\site-packages\\urllib3\\packages\\six.py\u001b[0m in \u001b[0;36mraise_from\u001b[1;34m(value, from_value)\u001b[0m\n",
      "\u001b[1;32m~\\anaconda3\\lib\\site-packages\\urllib3\\connectionpool.py\u001b[0m in \u001b[0;36m_make_request\u001b[1;34m(self, conn, method, url, timeout, chunked, **httplib_request_kw)\u001b[0m\n\u001b[0;32m    414\u001b[0m                 \u001b[1;31m# Python 3\u001b[0m\u001b[1;33m\u001b[0m\u001b[1;33m\u001b[0m\u001b[1;33m\u001b[0m\u001b[0m\n\u001b[0;32m    415\u001b[0m                 \u001b[1;32mtry\u001b[0m\u001b[1;33m:\u001b[0m\u001b[1;33m\u001b[0m\u001b[1;33m\u001b[0m\u001b[0m\n\u001b[1;32m--> 416\u001b[1;33m                     \u001b[0mhttplib_response\u001b[0m \u001b[1;33m=\u001b[0m \u001b[0mconn\u001b[0m\u001b[1;33m.\u001b[0m\u001b[0mgetresponse\u001b[0m\u001b[1;33m(\u001b[0m\u001b[1;33m)\u001b[0m\u001b[1;33m\u001b[0m\u001b[1;33m\u001b[0m\u001b[0m\n\u001b[0m\u001b[0;32m    417\u001b[0m                 \u001b[1;32mexcept\u001b[0m \u001b[0mBaseException\u001b[0m \u001b[1;32mas\u001b[0m \u001b[0me\u001b[0m\u001b[1;33m:\u001b[0m\u001b[1;33m\u001b[0m\u001b[1;33m\u001b[0m\u001b[0m\n\u001b[0;32m    418\u001b[0m                     \u001b[1;31m# Remove the TypeError from the exception chain in\u001b[0m\u001b[1;33m\u001b[0m\u001b[1;33m\u001b[0m\u001b[1;33m\u001b[0m\u001b[0m\n",
      "\u001b[1;32m~\\anaconda3\\lib\\http\\client.py\u001b[0m in \u001b[0;36mgetresponse\u001b[1;34m(self)\u001b[0m\n\u001b[0;32m   1342\u001b[0m         \u001b[1;32mtry\u001b[0m\u001b[1;33m:\u001b[0m\u001b[1;33m\u001b[0m\u001b[1;33m\u001b[0m\u001b[0m\n\u001b[0;32m   1343\u001b[0m             \u001b[1;32mtry\u001b[0m\u001b[1;33m:\u001b[0m\u001b[1;33m\u001b[0m\u001b[1;33m\u001b[0m\u001b[0m\n\u001b[1;32m-> 1344\u001b[1;33m                 \u001b[0mresponse\u001b[0m\u001b[1;33m.\u001b[0m\u001b[0mbegin\u001b[0m\u001b[1;33m(\u001b[0m\u001b[1;33m)\u001b[0m\u001b[1;33m\u001b[0m\u001b[1;33m\u001b[0m\u001b[0m\n\u001b[0m\u001b[0;32m   1345\u001b[0m             \u001b[1;32mexcept\u001b[0m \u001b[0mConnectionError\u001b[0m\u001b[1;33m:\u001b[0m\u001b[1;33m\u001b[0m\u001b[1;33m\u001b[0m\u001b[0m\n\u001b[0;32m   1346\u001b[0m                 \u001b[0mself\u001b[0m\u001b[1;33m.\u001b[0m\u001b[0mclose\u001b[0m\u001b[1;33m(\u001b[0m\u001b[1;33m)\u001b[0m\u001b[1;33m\u001b[0m\u001b[1;33m\u001b[0m\u001b[0m\n",
      "\u001b[1;32m~\\anaconda3\\lib\\http\\client.py\u001b[0m in \u001b[0;36mbegin\u001b[1;34m(self)\u001b[0m\n\u001b[0;32m    304\u001b[0m         \u001b[1;31m# read until we get a non-100 response\u001b[0m\u001b[1;33m\u001b[0m\u001b[1;33m\u001b[0m\u001b[1;33m\u001b[0m\u001b[0m\n\u001b[0;32m    305\u001b[0m         \u001b[1;32mwhile\u001b[0m \u001b[1;32mTrue\u001b[0m\u001b[1;33m:\u001b[0m\u001b[1;33m\u001b[0m\u001b[1;33m\u001b[0m\u001b[0m\n\u001b[1;32m--> 306\u001b[1;33m             \u001b[0mversion\u001b[0m\u001b[1;33m,\u001b[0m \u001b[0mstatus\u001b[0m\u001b[1;33m,\u001b[0m \u001b[0mreason\u001b[0m \u001b[1;33m=\u001b[0m \u001b[0mself\u001b[0m\u001b[1;33m.\u001b[0m\u001b[0m_read_status\u001b[0m\u001b[1;33m(\u001b[0m\u001b[1;33m)\u001b[0m\u001b[1;33m\u001b[0m\u001b[1;33m\u001b[0m\u001b[0m\n\u001b[0m\u001b[0;32m    307\u001b[0m             \u001b[1;32mif\u001b[0m \u001b[0mstatus\u001b[0m \u001b[1;33m!=\u001b[0m \u001b[0mCONTINUE\u001b[0m\u001b[1;33m:\u001b[0m\u001b[1;33m\u001b[0m\u001b[1;33m\u001b[0m\u001b[0m\n\u001b[0;32m    308\u001b[0m                 \u001b[1;32mbreak\u001b[0m\u001b[1;33m\u001b[0m\u001b[1;33m\u001b[0m\u001b[0m\n",
      "\u001b[1;32m~\\anaconda3\\lib\\http\\client.py\u001b[0m in \u001b[0;36m_read_status\u001b[1;34m(self)\u001b[0m\n\u001b[0;32m    265\u001b[0m \u001b[1;33m\u001b[0m\u001b[0m\n\u001b[0;32m    266\u001b[0m     \u001b[1;32mdef\u001b[0m \u001b[0m_read_status\u001b[0m\u001b[1;33m(\u001b[0m\u001b[0mself\u001b[0m\u001b[1;33m)\u001b[0m\u001b[1;33m:\u001b[0m\u001b[1;33m\u001b[0m\u001b[1;33m\u001b[0m\u001b[0m\n\u001b[1;32m--> 267\u001b[1;33m         \u001b[0mline\u001b[0m \u001b[1;33m=\u001b[0m \u001b[0mstr\u001b[0m\u001b[1;33m(\u001b[0m\u001b[0mself\u001b[0m\u001b[1;33m.\u001b[0m\u001b[0mfp\u001b[0m\u001b[1;33m.\u001b[0m\u001b[0mreadline\u001b[0m\u001b[1;33m(\u001b[0m\u001b[0m_MAXLINE\u001b[0m \u001b[1;33m+\u001b[0m \u001b[1;36m1\u001b[0m\u001b[1;33m)\u001b[0m\u001b[1;33m,\u001b[0m \u001b[1;34m\"iso-8859-1\"\u001b[0m\u001b[1;33m)\u001b[0m\u001b[1;33m\u001b[0m\u001b[1;33m\u001b[0m\u001b[0m\n\u001b[0m\u001b[0;32m    268\u001b[0m         \u001b[1;32mif\u001b[0m \u001b[0mlen\u001b[0m\u001b[1;33m(\u001b[0m\u001b[0mline\u001b[0m\u001b[1;33m)\u001b[0m \u001b[1;33m>\u001b[0m \u001b[0m_MAXLINE\u001b[0m\u001b[1;33m:\u001b[0m\u001b[1;33m\u001b[0m\u001b[1;33m\u001b[0m\u001b[0m\n\u001b[0;32m    269\u001b[0m             \u001b[1;32mraise\u001b[0m \u001b[0mLineTooLong\u001b[0m\u001b[1;33m(\u001b[0m\u001b[1;34m\"status line\"\u001b[0m\u001b[1;33m)\u001b[0m\u001b[1;33m\u001b[0m\u001b[1;33m\u001b[0m\u001b[0m\n",
      "\u001b[1;32m~\\anaconda3\\lib\\socket.py\u001b[0m in \u001b[0;36mreadinto\u001b[1;34m(self, b)\u001b[0m\n\u001b[0;32m    587\u001b[0m         \u001b[1;32mwhile\u001b[0m \u001b[1;32mTrue\u001b[0m\u001b[1;33m:\u001b[0m\u001b[1;33m\u001b[0m\u001b[1;33m\u001b[0m\u001b[0m\n\u001b[0;32m    588\u001b[0m             \u001b[1;32mtry\u001b[0m\u001b[1;33m:\u001b[0m\u001b[1;33m\u001b[0m\u001b[1;33m\u001b[0m\u001b[0m\n\u001b[1;32m--> 589\u001b[1;33m                 \u001b[1;32mreturn\u001b[0m \u001b[0mself\u001b[0m\u001b[1;33m.\u001b[0m\u001b[0m_sock\u001b[0m\u001b[1;33m.\u001b[0m\u001b[0mrecv_into\u001b[0m\u001b[1;33m(\u001b[0m\u001b[0mb\u001b[0m\u001b[1;33m)\u001b[0m\u001b[1;33m\u001b[0m\u001b[1;33m\u001b[0m\u001b[0m\n\u001b[0m\u001b[0;32m    590\u001b[0m             \u001b[1;32mexcept\u001b[0m \u001b[0mtimeout\u001b[0m\u001b[1;33m:\u001b[0m\u001b[1;33m\u001b[0m\u001b[1;33m\u001b[0m\u001b[0m\n\u001b[0;32m    591\u001b[0m                 \u001b[0mself\u001b[0m\u001b[1;33m.\u001b[0m\u001b[0m_timeout_occurred\u001b[0m \u001b[1;33m=\u001b[0m \u001b[1;32mTrue\u001b[0m\u001b[1;33m\u001b[0m\u001b[1;33m\u001b[0m\u001b[0m\n",
      "\u001b[1;31mKeyboardInterrupt\u001b[0m: "
     ]
    }
   ],
   "source": [
    "start=stock_crawling()\n",
    "\n",
    "stock_price = start.run(12) #  회사별 종가 테이블 12페이지 까지만 가져옴."
   ]
  },
  {
   "cell_type": "code",
   "execution_count": 461,
   "metadata": {},
   "outputs": [],
   "source": [
    "stock_price.to_excel(r'C:\\Users\\user\\증권크롤링\\주식 시세.xlsx') # 크롤링 결과 엑셀 파일로 저장."
   ]
  }
 ],
 "metadata": {
  "kernelspec": {
   "display_name": "Python 3",
   "language": "python",
   "name": "python3"
  },
  "language_info": {
   "codemirror_mode": {
    "name": "ipython",
    "version": 3
   },
   "file_extension": ".py",
   "mimetype": "text/x-python",
   "name": "python",
   "nbconvert_exporter": "python",
   "pygments_lexer": "ipython3",
   "version": "3.7.4"
  }
 },
 "nbformat": 4,
 "nbformat_minor": 4
}
